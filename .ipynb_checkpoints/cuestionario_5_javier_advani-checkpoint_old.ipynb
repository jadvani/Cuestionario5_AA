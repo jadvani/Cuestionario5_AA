{
 "cells": [
  {
   "cell_type": "markdown",
   "metadata": {},
   "source": [
    "# Cuestionario 5\n",
    "\n",
    "\n",
    "*Javier Ivar Advani Aguilar*\n",
    "\n",
    "\n"
   ]
  },
  {
   "cell_type": "markdown",
   "metadata": {},
   "source": [
    "Para la resolución de este cuestionario, en que se tiene como objetivo final profundizar en los conceptos vistos relacionados con los árboles de decisión, será utilizado el dataset  ***Parkinsons Telemonitoring*** (Telemonitorización del Parkinson), que ha sido descargado de este [enlace](https://archive.ics.uci.edu/ml/datasets/Parkinsons+Telemonitoring).\n",
    "\n",
    "<img src=\"parkinson_detail.jpg\" style=\"width: 200px;\"/>\n"
   ]
  },
  {
   "cell_type": "markdown",
   "metadata": {},
   "source": [
    "Usaremos las siguientes librerías:\n",
    "\n",
    "* [Scikit-learn](https://scikit-learn.org/stable/)\n",
    "* [Numpy](https://numpy.org/)\n",
    "* [Pandas](https://pandas.pydata.org/)\n",
    "* [Matplotlib](https://matplotlib.org/)\n",
    "* [Seaborn](https://seaborn.pydata.org/)\n",
    "* [Graphviz](https://www.graphviz.org/)\n",
    "* [IPython](https://ipython.org/)"
   ]
  },
  {
   "cell_type": "code",
   "execution_count": 188,
   "metadata": {},
   "outputs": [
    {
     "data": {
      "text/html": [
       "\n",
       "        <script>\n",
       "            function code_toggle_6894362025416319435() {\n",
       "                $('div.cell.code_cell.rendered.selected').find('div.input').toggle();\n",
       "            }\n",
       "\n",
       "            \n",
       "        </script>\n",
       "\n",
       "        <a href=\"javascript:code_toggle_6894362025416319435()\">Mostrar/Ocultar Celda</a>\n",
       "    "
      ],
      "text/plain": [
       "<IPython.core.display.HTML object>"
      ]
     },
     "execution_count": 188,
     "metadata": {},
     "output_type": "execute_result"
    }
   ],
   "source": [
    "#Codigo de configuracion para mostrar / ocultar celdas\n",
    "\n",
    "from IPython.display import HTML\n",
    "import random\n",
    "\n",
    "def hide_toggle(for_next=False):\n",
    "    this_cell = \"\"\"$('div.cell.code_cell.rendered.selected')\"\"\"\n",
    "    next_cell = this_cell + '.next()'\n",
    "\n",
    "    toggle_text = 'Mostrar/Ocultar Celda'  # text shown on toggle link\n",
    "    target_cell = this_cell  # target cell to control with toggle\n",
    "    js_hide_current = ''  # bit of JS to permanently hide code in current cell (only when toggling next cell)\n",
    "\n",
    "    if for_next:\n",
    "        target_cell = next_cell\n",
    "        toggle_text += ' next cell'\n",
    "        js_hide_current = this_cell + '.find(\"div.input\").hide();'\n",
    "\n",
    "    js_f_name = 'code_toggle_{}'.format(str(random.randint(1,2**64)))\n",
    "\n",
    "    html = \"\"\"\n",
    "        <script>\n",
    "            function {f_name}() {{\n",
    "                {cell_selector}.find('div.input').toggle();\n",
    "            }}\n",
    "\n",
    "            {js_hide_current}\n",
    "        </script>\n",
    "\n",
    "        <a href=\"javascript:{f_name}()\">{toggle_text}</a>\n",
    "    \"\"\".format(\n",
    "        f_name=js_f_name,\n",
    "        cell_selector=target_cell,\n",
    "        js_hide_current=js_hide_current, \n",
    "        toggle_text=toggle_text\n",
    "    )\n",
    "\n",
    "    return HTML(html)\n",
    "\n",
    "\n",
    "hide_toggle()\n"
   ]
  },
  {
   "cell_type": "code",
   "execution_count": 189,
   "metadata": {},
   "outputs": [
    {
     "data": {
      "text/plain": [
       "Index(['subject#', 'age', 'sex', 'test_time', 'motor_UPDRS', 'total_UPDRS',\n",
       "       'Jitter(%)', 'Jitter(Abs)', 'Jitter:RAP', 'Jitter:PPQ5', 'Jitter:DDP',\n",
       "       'Shimmer', 'Shimmer(dB)', 'Shimmer:APQ3', 'Shimmer:APQ5',\n",
       "       'Shimmer:APQ11', 'Shimmer:DDA', 'NHR', 'HNR', 'RPDE', 'DFA', 'PPE'],\n",
       "      dtype='object')"
      ]
     },
     "execution_count": 189,
     "metadata": {},
     "output_type": "execute_result"
    }
   ],
   "source": [
    "#En primer lugar, vamos a mostrar los atributos / nombres de columna que posee el dataset, una vez leído. \n",
    "\n",
    "import pandas as pd\n",
    "import numpy as np\n",
    "\n",
    "data = pd.read_csv(\"parkinsons_updrs.csv\") \n",
    "\n",
    "data.columns\n"
   ]
  },
  {
   "cell_type": "markdown",
   "metadata": {},
   "source": [
    "Aunque el objetivo primordial no es profundizar en los conceptos transversales del dataset, tener una idea aproximada de la utilidad de cada uno de los parámetros que intervienen, resulta necesario para poder contrastar los datos con mayor eficacia. \n",
    "\n",
    "\n",
    "1. **subject#** - Índice que identifica unívocamente a cada sujeto.\n",
    "\n",
    "2. **age** - Edad del sujeto.\n",
    "\n",
    "3. **sex** - 0 si es hombre, 1 si es mujer.\n",
    "\n",
    "4. **test_time** - Número de días que han pasado desde que el sujeto se sometió al estudio."
   ]
  },
  {
   "cell_type": "markdown",
   "metadata": {},
   "source": [
    "*UPDRS*: *UNIFIED PARKINSON’S DISEASE RATING SCALE.* Es una puntuación que determina el nivel de Parkinson que tiene el sujeto. En esta puntuación intervienen varios factores psíquicos y físicos (depresión, expresión facial, higiene, escritura a mano) Más info y parámetros que se puntúan [aquí](https://www.theracycle.com/resources/links-and-additional-resources/updrs-scale/).\n",
    "\n",
    "\n",
    "5. **motor_UPDRS** - Clinician's motor UPDRS score, linearly interpolated. Se trata de la parte de la puntuación que hace referencia a las habilidades motoras del paciente.\n",
    "\n",
    "6. **total_UPDRS** - Clinician's total UPDRS score, linearly interpolated. \n",
    "\n",
    "7. **Jitter(%),Jitter(Abs),Jitter:RAP,Jitter:PPQ5,Jitter**:DDP - Diversas medidas de variaciones en la frecuencia fundamental.\n",
    "\n",
    "8. **Shimmer,Shimmer(dB),Shimmer:APQ3,Shimmer:APQ5,Shimmer:APQ11,Shimmer**:DDA - Diversas medidas de variaciones en amplitud.\n"
   ]
  },
  {
   "cell_type": "markdown",
   "metadata": {},
   "source": [
    "\n",
    "9. **NHR,HNR** - *Noise to Harmonics Ratio* y *Harmonic to Noise Ratio*:  medidas expresadas en ratio de las componentes tonales en la voz.\n",
    "\n",
    "$$NHR = \\frac{\\sum_{k=0}^{N-1}n[k]^{2}}{\\sum_{k=0}^{N-1}h[k]^{2}}$$\n",
    "\n",
    "\n",
    "$$HNR = \\frac{\\sum_{k=0}^{N-1}h[k]^{2}}{\\sum_{k=0}^{N-1}n[k]^{2}}$$"
   ]
  },
  {
   "cell_type": "markdown",
   "metadata": {},
   "source": [
    "10. **RPDE** -  *Recurrence period density entropy* . Mide la repetitividad o periodicidad de una señal.\n",
    "\n",
    "$$RPDE = H_{norm}= -(\\ln{T_{max}})^{-1}{\\sum_{t=1}^{T_{max}}P(t)\\ln{P(t)}}$$"
   ]
  },
  {
   "cell_type": "markdown",
   "metadata": {},
   "source": [
    "\n",
    "11. **DFA** - *Detrended Fluctuation Analysis* Signal fractal scaling exponent. Se trata de un método para medir información estructural que varía en el tiempo, a través de series temporales. Más info [aquí](https://www.physionet.org/content/dfa/1.0.0/)\n",
    "\n",
    "$$F(n)= \\sqrt {\\frac {1}{N} \\sum_{k=1}^{N}[y(k)-y_n(k)]^2}$$\n",
    "\n"
   ]
  },
  {
   "cell_type": "markdown",
   "metadata": {},
   "source": [
    "12. **PPE** - *Pitch Period Entropy*. Medida no lineal de la variación en frecuencia. Más detalles de cómo es calculada a partir de la FFT y el PSD [aquí](https://stackoverflow.com/questions/30418391/what-is-frequency-domain-entropy-in-fft-result-and-how-to-calculate-it/30465336)"
   ]
  },
  {
   "cell_type": "code",
   "execution_count": 190,
   "metadata": {},
   "outputs": [
    {
     "data": {
      "text/html": [
       "<div>\n",
       "<style scoped>\n",
       "    .dataframe tbody tr th:only-of-type {\n",
       "        vertical-align: middle;\n",
       "    }\n",
       "\n",
       "    .dataframe tbody tr th {\n",
       "        vertical-align: top;\n",
       "    }\n",
       "\n",
       "    .dataframe thead th {\n",
       "        text-align: right;\n",
       "    }\n",
       "</style>\n",
       "<table border=\"1\" class=\"dataframe\">\n",
       "  <thead>\n",
       "    <tr style=\"text-align: right;\">\n",
       "      <th></th>\n",
       "      <th>subject#</th>\n",
       "      <th>age</th>\n",
       "      <th>sex</th>\n",
       "      <th>test_time</th>\n",
       "      <th>motor_UPDRS</th>\n",
       "      <th>total_UPDRS</th>\n",
       "      <th>Jitter(%)</th>\n",
       "      <th>Jitter(Abs)</th>\n",
       "      <th>Jitter:RAP</th>\n",
       "      <th>Jitter:PPQ5</th>\n",
       "      <th>...</th>\n",
       "      <th>Shimmer(dB)</th>\n",
       "      <th>Shimmer:APQ3</th>\n",
       "      <th>Shimmer:APQ5</th>\n",
       "      <th>Shimmer:APQ11</th>\n",
       "      <th>Shimmer:DDA</th>\n",
       "      <th>NHR</th>\n",
       "      <th>HNR</th>\n",
       "      <th>RPDE</th>\n",
       "      <th>DFA</th>\n",
       "      <th>PPE</th>\n",
       "    </tr>\n",
       "  </thead>\n",
       "  <tbody>\n",
       "    <tr>\n",
       "      <td>0</td>\n",
       "      <td>1</td>\n",
       "      <td>72</td>\n",
       "      <td>0</td>\n",
       "      <td>5.6431</td>\n",
       "      <td>28.199</td>\n",
       "      <td>34.398</td>\n",
       "      <td>0.00662</td>\n",
       "      <td>0.000034</td>\n",
       "      <td>0.00401</td>\n",
       "      <td>0.00317</td>\n",
       "      <td>...</td>\n",
       "      <td>0.230</td>\n",
       "      <td>0.01438</td>\n",
       "      <td>0.01309</td>\n",
       "      <td>0.01662</td>\n",
       "      <td>0.04314</td>\n",
       "      <td>0.014290</td>\n",
       "      <td>21.640</td>\n",
       "      <td>0.41888</td>\n",
       "      <td>0.54842</td>\n",
       "      <td>0.16006</td>\n",
       "    </tr>\n",
       "    <tr>\n",
       "      <td>1</td>\n",
       "      <td>1</td>\n",
       "      <td>72</td>\n",
       "      <td>0</td>\n",
       "      <td>12.6660</td>\n",
       "      <td>28.447</td>\n",
       "      <td>34.894</td>\n",
       "      <td>0.00300</td>\n",
       "      <td>0.000017</td>\n",
       "      <td>0.00132</td>\n",
       "      <td>0.00150</td>\n",
       "      <td>...</td>\n",
       "      <td>0.179</td>\n",
       "      <td>0.00994</td>\n",
       "      <td>0.01072</td>\n",
       "      <td>0.01689</td>\n",
       "      <td>0.02982</td>\n",
       "      <td>0.011112</td>\n",
       "      <td>27.183</td>\n",
       "      <td>0.43493</td>\n",
       "      <td>0.56477</td>\n",
       "      <td>0.10810</td>\n",
       "    </tr>\n",
       "    <tr>\n",
       "      <td>2</td>\n",
       "      <td>1</td>\n",
       "      <td>72</td>\n",
       "      <td>0</td>\n",
       "      <td>19.6810</td>\n",
       "      <td>28.695</td>\n",
       "      <td>35.389</td>\n",
       "      <td>0.00481</td>\n",
       "      <td>0.000025</td>\n",
       "      <td>0.00205</td>\n",
       "      <td>0.00208</td>\n",
       "      <td>...</td>\n",
       "      <td>0.181</td>\n",
       "      <td>0.00734</td>\n",
       "      <td>0.00844</td>\n",
       "      <td>0.01458</td>\n",
       "      <td>0.02202</td>\n",
       "      <td>0.020220</td>\n",
       "      <td>23.047</td>\n",
       "      <td>0.46222</td>\n",
       "      <td>0.54405</td>\n",
       "      <td>0.21014</td>\n",
       "    </tr>\n",
       "    <tr>\n",
       "      <td>3</td>\n",
       "      <td>1</td>\n",
       "      <td>72</td>\n",
       "      <td>0</td>\n",
       "      <td>25.6470</td>\n",
       "      <td>28.905</td>\n",
       "      <td>35.810</td>\n",
       "      <td>0.00528</td>\n",
       "      <td>0.000027</td>\n",
       "      <td>0.00191</td>\n",
       "      <td>0.00264</td>\n",
       "      <td>...</td>\n",
       "      <td>0.327</td>\n",
       "      <td>0.01106</td>\n",
       "      <td>0.01265</td>\n",
       "      <td>0.01963</td>\n",
       "      <td>0.03317</td>\n",
       "      <td>0.027837</td>\n",
       "      <td>24.445</td>\n",
       "      <td>0.48730</td>\n",
       "      <td>0.57794</td>\n",
       "      <td>0.33277</td>\n",
       "    </tr>\n",
       "    <tr>\n",
       "      <td>4</td>\n",
       "      <td>1</td>\n",
       "      <td>72</td>\n",
       "      <td>0</td>\n",
       "      <td>33.6420</td>\n",
       "      <td>29.187</td>\n",
       "      <td>36.375</td>\n",
       "      <td>0.00335</td>\n",
       "      <td>0.000020</td>\n",
       "      <td>0.00093</td>\n",
       "      <td>0.00130</td>\n",
       "      <td>...</td>\n",
       "      <td>0.176</td>\n",
       "      <td>0.00679</td>\n",
       "      <td>0.00929</td>\n",
       "      <td>0.01819</td>\n",
       "      <td>0.02036</td>\n",
       "      <td>0.011625</td>\n",
       "      <td>26.126</td>\n",
       "      <td>0.47188</td>\n",
       "      <td>0.56122</td>\n",
       "      <td>0.19361</td>\n",
       "    </tr>\n",
       "  </tbody>\n",
       "</table>\n",
       "<p>5 rows × 22 columns</p>\n",
       "</div>"
      ],
      "text/plain": [
       "   subject#  age  sex  test_time  motor_UPDRS  total_UPDRS  Jitter(%)  \\\n",
       "0         1   72    0     5.6431       28.199       34.398    0.00662   \n",
       "1         1   72    0    12.6660       28.447       34.894    0.00300   \n",
       "2         1   72    0    19.6810       28.695       35.389    0.00481   \n",
       "3         1   72    0    25.6470       28.905       35.810    0.00528   \n",
       "4         1   72    0    33.6420       29.187       36.375    0.00335   \n",
       "\n",
       "   Jitter(Abs)  Jitter:RAP  Jitter:PPQ5  ...  Shimmer(dB)  Shimmer:APQ3  \\\n",
       "0     0.000034     0.00401      0.00317  ...        0.230       0.01438   \n",
       "1     0.000017     0.00132      0.00150  ...        0.179       0.00994   \n",
       "2     0.000025     0.00205      0.00208  ...        0.181       0.00734   \n",
       "3     0.000027     0.00191      0.00264  ...        0.327       0.01106   \n",
       "4     0.000020     0.00093      0.00130  ...        0.176       0.00679   \n",
       "\n",
       "   Shimmer:APQ5  Shimmer:APQ11  Shimmer:DDA       NHR     HNR     RPDE  \\\n",
       "0       0.01309        0.01662      0.04314  0.014290  21.640  0.41888   \n",
       "1       0.01072        0.01689      0.02982  0.011112  27.183  0.43493   \n",
       "2       0.00844        0.01458      0.02202  0.020220  23.047  0.46222   \n",
       "3       0.01265        0.01963      0.03317  0.027837  24.445  0.48730   \n",
       "4       0.00929        0.01819      0.02036  0.011625  26.126  0.47188   \n",
       "\n",
       "       DFA      PPE  \n",
       "0  0.54842  0.16006  \n",
       "1  0.56477  0.10810  \n",
       "2  0.54405  0.21014  \n",
       "3  0.57794  0.33277  \n",
       "4  0.56122  0.19361  \n",
       "\n",
       "[5 rows x 22 columns]"
      ]
     },
     "execution_count": 190,
     "metadata": {},
     "output_type": "execute_result"
    }
   ],
   "source": [
    "#A continuación, proseguimos con un primer vistazo de las filas de datos.\n",
    "# ver primeras 5 líneas de los datos\n",
    "data.head()"
   ]
  },
  {
   "cell_type": "code",
   "execution_count": 191,
   "metadata": {},
   "outputs": [
    {
     "data": {
      "text/html": [
       "<div>\n",
       "<style scoped>\n",
       "    .dataframe tbody tr th:only-of-type {\n",
       "        vertical-align: middle;\n",
       "    }\n",
       "\n",
       "    .dataframe tbody tr th {\n",
       "        vertical-align: top;\n",
       "    }\n",
       "\n",
       "    .dataframe thead th {\n",
       "        text-align: right;\n",
       "    }\n",
       "</style>\n",
       "<table border=\"1\" class=\"dataframe\">\n",
       "  <thead>\n",
       "    <tr style=\"text-align: right;\">\n",
       "      <th></th>\n",
       "      <th>subject#</th>\n",
       "      <th>age</th>\n",
       "      <th>sex</th>\n",
       "      <th>test_time</th>\n",
       "      <th>motor_UPDRS</th>\n",
       "      <th>total_UPDRS</th>\n",
       "      <th>Jitter(%)</th>\n",
       "      <th>Jitter(Abs)</th>\n",
       "      <th>Jitter:RAP</th>\n",
       "      <th>Jitter:PPQ5</th>\n",
       "      <th>...</th>\n",
       "      <th>Shimmer(dB)</th>\n",
       "      <th>Shimmer:APQ3</th>\n",
       "      <th>Shimmer:APQ5</th>\n",
       "      <th>Shimmer:APQ11</th>\n",
       "      <th>Shimmer:DDA</th>\n",
       "      <th>NHR</th>\n",
       "      <th>HNR</th>\n",
       "      <th>RPDE</th>\n",
       "      <th>DFA</th>\n",
       "      <th>PPE</th>\n",
       "    </tr>\n",
       "  </thead>\n",
       "  <tbody>\n",
       "    <tr>\n",
       "      <td>count</td>\n",
       "      <td>5875.000000</td>\n",
       "      <td>5875.000000</td>\n",
       "      <td>5875.000000</td>\n",
       "      <td>5875.000000</td>\n",
       "      <td>5875.000000</td>\n",
       "      <td>5875.000000</td>\n",
       "      <td>5875.000000</td>\n",
       "      <td>5875.000000</td>\n",
       "      <td>5875.000000</td>\n",
       "      <td>5875.000000</td>\n",
       "      <td>...</td>\n",
       "      <td>5875.000000</td>\n",
       "      <td>5875.000000</td>\n",
       "      <td>5875.000000</td>\n",
       "      <td>5875.000000</td>\n",
       "      <td>5875.000000</td>\n",
       "      <td>5875.000000</td>\n",
       "      <td>5875.000000</td>\n",
       "      <td>5875.000000</td>\n",
       "      <td>5875.000000</td>\n",
       "      <td>5875.000000</td>\n",
       "    </tr>\n",
       "    <tr>\n",
       "      <td>mean</td>\n",
       "      <td>21.494128</td>\n",
       "      <td>64.804936</td>\n",
       "      <td>0.317787</td>\n",
       "      <td>92.863722</td>\n",
       "      <td>21.296229</td>\n",
       "      <td>29.018942</td>\n",
       "      <td>0.006154</td>\n",
       "      <td>0.000044</td>\n",
       "      <td>0.002987</td>\n",
       "      <td>0.003277</td>\n",
       "      <td>...</td>\n",
       "      <td>0.310960</td>\n",
       "      <td>0.017156</td>\n",
       "      <td>0.020144</td>\n",
       "      <td>0.027481</td>\n",
       "      <td>0.051467</td>\n",
       "      <td>0.032120</td>\n",
       "      <td>21.679495</td>\n",
       "      <td>0.541473</td>\n",
       "      <td>0.653240</td>\n",
       "      <td>0.219589</td>\n",
       "    </tr>\n",
       "    <tr>\n",
       "      <td>std</td>\n",
       "      <td>12.372279</td>\n",
       "      <td>8.821524</td>\n",
       "      <td>0.465656</td>\n",
       "      <td>53.445602</td>\n",
       "      <td>8.129282</td>\n",
       "      <td>10.700283</td>\n",
       "      <td>0.005624</td>\n",
       "      <td>0.000036</td>\n",
       "      <td>0.003124</td>\n",
       "      <td>0.003732</td>\n",
       "      <td>...</td>\n",
       "      <td>0.230254</td>\n",
       "      <td>0.013237</td>\n",
       "      <td>0.016664</td>\n",
       "      <td>0.019986</td>\n",
       "      <td>0.039711</td>\n",
       "      <td>0.059692</td>\n",
       "      <td>4.291096</td>\n",
       "      <td>0.100986</td>\n",
       "      <td>0.070902</td>\n",
       "      <td>0.091498</td>\n",
       "    </tr>\n",
       "    <tr>\n",
       "      <td>min</td>\n",
       "      <td>1.000000</td>\n",
       "      <td>36.000000</td>\n",
       "      <td>0.000000</td>\n",
       "      <td>-4.262500</td>\n",
       "      <td>5.037700</td>\n",
       "      <td>7.000000</td>\n",
       "      <td>0.000830</td>\n",
       "      <td>0.000002</td>\n",
       "      <td>0.000330</td>\n",
       "      <td>0.000430</td>\n",
       "      <td>...</td>\n",
       "      <td>0.026000</td>\n",
       "      <td>0.001610</td>\n",
       "      <td>0.001940</td>\n",
       "      <td>0.002490</td>\n",
       "      <td>0.004840</td>\n",
       "      <td>0.000286</td>\n",
       "      <td>1.659000</td>\n",
       "      <td>0.151020</td>\n",
       "      <td>0.514040</td>\n",
       "      <td>0.021983</td>\n",
       "    </tr>\n",
       "    <tr>\n",
       "      <td>25%</td>\n",
       "      <td>10.000000</td>\n",
       "      <td>58.000000</td>\n",
       "      <td>0.000000</td>\n",
       "      <td>46.847500</td>\n",
       "      <td>15.000000</td>\n",
       "      <td>21.371000</td>\n",
       "      <td>0.003580</td>\n",
       "      <td>0.000022</td>\n",
       "      <td>0.001580</td>\n",
       "      <td>0.001820</td>\n",
       "      <td>...</td>\n",
       "      <td>0.175000</td>\n",
       "      <td>0.009280</td>\n",
       "      <td>0.010790</td>\n",
       "      <td>0.015665</td>\n",
       "      <td>0.027830</td>\n",
       "      <td>0.010955</td>\n",
       "      <td>19.406000</td>\n",
       "      <td>0.469785</td>\n",
       "      <td>0.596180</td>\n",
       "      <td>0.156340</td>\n",
       "    </tr>\n",
       "    <tr>\n",
       "      <td>50%</td>\n",
       "      <td>22.000000</td>\n",
       "      <td>65.000000</td>\n",
       "      <td>0.000000</td>\n",
       "      <td>91.523000</td>\n",
       "      <td>20.871000</td>\n",
       "      <td>27.576000</td>\n",
       "      <td>0.004900</td>\n",
       "      <td>0.000035</td>\n",
       "      <td>0.002250</td>\n",
       "      <td>0.002490</td>\n",
       "      <td>...</td>\n",
       "      <td>0.253000</td>\n",
       "      <td>0.013700</td>\n",
       "      <td>0.015940</td>\n",
       "      <td>0.022710</td>\n",
       "      <td>0.041110</td>\n",
       "      <td>0.018448</td>\n",
       "      <td>21.920000</td>\n",
       "      <td>0.542250</td>\n",
       "      <td>0.643600</td>\n",
       "      <td>0.205500</td>\n",
       "    </tr>\n",
       "    <tr>\n",
       "      <td>75%</td>\n",
       "      <td>33.000000</td>\n",
       "      <td>72.000000</td>\n",
       "      <td>1.000000</td>\n",
       "      <td>138.445000</td>\n",
       "      <td>27.596500</td>\n",
       "      <td>36.399000</td>\n",
       "      <td>0.006800</td>\n",
       "      <td>0.000053</td>\n",
       "      <td>0.003290</td>\n",
       "      <td>0.003460</td>\n",
       "      <td>...</td>\n",
       "      <td>0.365000</td>\n",
       "      <td>0.020575</td>\n",
       "      <td>0.023755</td>\n",
       "      <td>0.032715</td>\n",
       "      <td>0.061735</td>\n",
       "      <td>0.031463</td>\n",
       "      <td>24.444000</td>\n",
       "      <td>0.614045</td>\n",
       "      <td>0.711335</td>\n",
       "      <td>0.264490</td>\n",
       "    </tr>\n",
       "    <tr>\n",
       "      <td>max</td>\n",
       "      <td>42.000000</td>\n",
       "      <td>85.000000</td>\n",
       "      <td>1.000000</td>\n",
       "      <td>215.490000</td>\n",
       "      <td>39.511000</td>\n",
       "      <td>54.992000</td>\n",
       "      <td>0.099990</td>\n",
       "      <td>0.000446</td>\n",
       "      <td>0.057540</td>\n",
       "      <td>0.069560</td>\n",
       "      <td>...</td>\n",
       "      <td>2.107000</td>\n",
       "      <td>0.162670</td>\n",
       "      <td>0.167020</td>\n",
       "      <td>0.275460</td>\n",
       "      <td>0.488020</td>\n",
       "      <td>0.748260</td>\n",
       "      <td>37.875000</td>\n",
       "      <td>0.966080</td>\n",
       "      <td>0.865600</td>\n",
       "      <td>0.731730</td>\n",
       "    </tr>\n",
       "  </tbody>\n",
       "</table>\n",
       "<p>8 rows × 22 columns</p>\n",
       "</div>"
      ],
      "text/plain": [
       "          subject#          age          sex    test_time  motor_UPDRS  \\\n",
       "count  5875.000000  5875.000000  5875.000000  5875.000000  5875.000000   \n",
       "mean     21.494128    64.804936     0.317787    92.863722    21.296229   \n",
       "std      12.372279     8.821524     0.465656    53.445602     8.129282   \n",
       "min       1.000000    36.000000     0.000000    -4.262500     5.037700   \n",
       "25%      10.000000    58.000000     0.000000    46.847500    15.000000   \n",
       "50%      22.000000    65.000000     0.000000    91.523000    20.871000   \n",
       "75%      33.000000    72.000000     1.000000   138.445000    27.596500   \n",
       "max      42.000000    85.000000     1.000000   215.490000    39.511000   \n",
       "\n",
       "       total_UPDRS    Jitter(%)  Jitter(Abs)   Jitter:RAP  Jitter:PPQ5  ...  \\\n",
       "count  5875.000000  5875.000000  5875.000000  5875.000000  5875.000000  ...   \n",
       "mean     29.018942     0.006154     0.000044     0.002987     0.003277  ...   \n",
       "std      10.700283     0.005624     0.000036     0.003124     0.003732  ...   \n",
       "min       7.000000     0.000830     0.000002     0.000330     0.000430  ...   \n",
       "25%      21.371000     0.003580     0.000022     0.001580     0.001820  ...   \n",
       "50%      27.576000     0.004900     0.000035     0.002250     0.002490  ...   \n",
       "75%      36.399000     0.006800     0.000053     0.003290     0.003460  ...   \n",
       "max      54.992000     0.099990     0.000446     0.057540     0.069560  ...   \n",
       "\n",
       "       Shimmer(dB)  Shimmer:APQ3  Shimmer:APQ5  Shimmer:APQ11  Shimmer:DDA  \\\n",
       "count  5875.000000   5875.000000   5875.000000    5875.000000  5875.000000   \n",
       "mean      0.310960      0.017156      0.020144       0.027481     0.051467   \n",
       "std       0.230254      0.013237      0.016664       0.019986     0.039711   \n",
       "min       0.026000      0.001610      0.001940       0.002490     0.004840   \n",
       "25%       0.175000      0.009280      0.010790       0.015665     0.027830   \n",
       "50%       0.253000      0.013700      0.015940       0.022710     0.041110   \n",
       "75%       0.365000      0.020575      0.023755       0.032715     0.061735   \n",
       "max       2.107000      0.162670      0.167020       0.275460     0.488020   \n",
       "\n",
       "               NHR          HNR         RPDE          DFA          PPE  \n",
       "count  5875.000000  5875.000000  5875.000000  5875.000000  5875.000000  \n",
       "mean      0.032120    21.679495     0.541473     0.653240     0.219589  \n",
       "std       0.059692     4.291096     0.100986     0.070902     0.091498  \n",
       "min       0.000286     1.659000     0.151020     0.514040     0.021983  \n",
       "25%       0.010955    19.406000     0.469785     0.596180     0.156340  \n",
       "50%       0.018448    21.920000     0.542250     0.643600     0.205500  \n",
       "75%       0.031463    24.444000     0.614045     0.711335     0.264490  \n",
       "max       0.748260    37.875000     0.966080     0.865600     0.731730  \n",
       "\n",
       "[8 rows x 22 columns]"
      ]
     },
     "execution_count": 191,
     "metadata": {},
     "output_type": "execute_result"
    }
   ],
   "source": [
    "#vista general y estadísticas (valores mínimo y máximo de cada atributo, valor medio, ...)\n",
    "data.describe()"
   ]
  },
  {
   "cell_type": "code",
   "execution_count": 192,
   "metadata": {
    "scrolled": false
   },
   "outputs": [
    {
     "name": "stdout",
     "output_type": "stream",
     "text": [
      "Como no existen celdas vacías en el dataset, asumimos que todos los sujetos contienen mayor o menor información, por lo que no hay celdas por eliminar directamente.\n"
     ]
    }
   ],
   "source": [
    "#data.loc[data['age'] < 37] #filter rows by age range\n",
    "\n",
    "# Comprobamos columna a columna si hay algún valor vacío. A cada valor vacío, se le asignará un NaN, \n",
    "#y se considerará que esa fila está incompleta.\n",
    "#En caso de que no existan valores vacíos, la función indicará por pantalla que no hay datos por limpiar. \n",
    "#En caso contrario, será necesario limpiar las celdas analizar las celdas vacías en la lista obtenida.\n",
    "\n",
    "def checkEmptyValuesInAttributes(data):\n",
    "    \n",
    "    columnNamesWithEmptyCells = []\n",
    "    columns=list(data)\n",
    "\n",
    "\n",
    "    for i in columns:\n",
    "        data[i].replace('', np.nan, inplace=True)\n",
    "        if(len(data.loc[data[i]== np.nan])):\n",
    "            columnNamesWithEmptyCells.append(columns[data.columns.get_loc(columns[i])])\n",
    "\n",
    "    return columnNamesWithEmptyCells\n",
    "\n",
    "emptyCellColumns = checkEmptyValuesInAttributes(data) \n",
    "print(\"Como no existen celdas vacías en el dataset, asumimos que todos los sujetos contienen mayor o menor información, por lo que no hay celdas por eliminar directamente.\"if len(emptyCellColumns)==0  else \"hay datos por limpiar , en concreto tenemos\"+len(emptyCellColumns)+\" columnas con valores vacíos NaN\")\n",
    "\n",
    "\n",
    "#Observando con mucho detenimiento los datos, se averigüó que en algunas ocasiones, varias filas corresponden al mismo sujeto (de ahí a que existiese un índice de sujeto). \n",
    "#Contamos la cantidad de sujetos únicos que hay\n",
    "#data['subject#'].nunique() # 42 sujetos\n",
    "\n",
    "#Vamos a previsualizar las mediciones más recientes obtenidas de cada sujeto. \n",
    "#Para ello filtramos por valor único de subject y max test_time. \n",
    "#Además, vamos a descartar aquellos que tengan una puntuación UPDRS motora inferior a 13,\n",
    "#porque teniendo en cuenta que es una puntuación que va hasta 199, alguien que posea menos que eso, consideramos no es interesante de ser estudiado. \n",
    "\n",
    "\n",
    "#clean_data=data.iloc[data.groupby(['subject#']).apply(lambda x: x['test_time'].idxmax())][data['motor_UPDRS']>13]\n",
    "\n",
    "#clean_data.head()\n",
    "\n",
    "\n",
    "#imprimimos los nombres de las columnas\n"
   ]
  },
  {
   "cell_type": "code",
   "execution_count": 193,
   "metadata": {},
   "outputs": [],
   "source": [
    "#vamos a establecer como objetivo de nuestro arbol de decisión que la característica a predecir sea el total_UPDRS, para determinar según el resto de parámetros si la persona tiene Parkinson o no.\n",
    "\n",
    "y = data.total_UPDRS"
   ]
  },
  {
   "cell_type": "code",
   "execution_count": 194,
   "metadata": {},
   "outputs": [],
   "source": [
    "#Elegimos las características que van a conformar nuestro árbol de decisión.\n",
    "\n",
    "parkinson_features = ['age', 'motor_UPDRS', 'RPDE', 'PPE']\n",
    "\n",
    "parkinson_dataframe = pd.DataFrame(data, columns=parkinson_features)\n",
    "data['target'] = 1\n"
   ]
  },
  {
   "cell_type": "code",
   "execution_count": 195,
   "metadata": {},
   "outputs": [
    {
     "data": {
      "image/png": "[encoded data removed]",
      "text/plain": [
       "<Figure size 1080x1080 with 16 Axes>"
      ]
     },
     "metadata": {
      "needs_background": "light"
     },
     "output_type": "display_data"
    }
   ],
   "source": [
    "#Scatter Matrix\n",
    "sp = pd.plotting.scatter_matrix(parkinson_dataframe, c=data.target, figsize=(15, 15), marker='o',\n",
    "                                 hist_kwds={'bins': 20}, s=60, alpha=.8)"
   ]
  },
  {
   "cell_type": "code",
   "execution_count": 196,
   "metadata": {},
   "outputs": [
    {
     "data": {
      "text/plain": [
       "<matplotlib.axes._subplots.AxesSubplot at 0x13131023608>"
      ]
     },
     "execution_count": 196,
     "metadata": {},
     "output_type": "execute_result"
    },
    {
     "data": {
      "image/png": "[encoded data removed]",
      "text/plain": [
       "<Figure size 1080x1080 with 2 Axes>"
      ]
     },
     "metadata": {
      "needs_background": "light"
     },
     "output_type": "display_data"
    }
   ],
   "source": [
    "import seaborn as sns\n",
    "import matplotlib.pyplot as plt\n",
    "plt.figure(figsize=(15,15))\n",
    "plt.title('Coeficiente de Correlación de Pearson entre los atributos', y=1.05, size=15)\n",
    "sns.heatmap(parkinson_dataframe.astype(float).corr(),linewidths=0.1,vmax=1.0, \n",
    "            square=True, cmap='viridis', linecolor='white', annot=True)"
   ]
  },
  {
   "cell_type": "markdown",
   "metadata": {},
   "source": [
    "De acuerdo con [Tabachnick & Fidell (1996), pág 423](https://books.google.es/books?id=-kKBDAAAQBAJ&pg=PA423&lpg=PA423&dq=Tabachnick+%26+Fidell+(1996)+regression+0.7&source=bl&ots=hE1zdr2mDN&sig=ACfU3U2VW-529Vvw-K2JuDZ7HX5ZOdbGoQ&hl=es&sa=X&ved=2ahUKEwjEiJ7MqermAhWsyoUKHS1dBIEQ6AEwAXoECAsQAQ#v=onepage&q=Tabachnick%20%26%20Fidell%20(1996)%20regression%200.7&f=false) las variables independientes con una correlación mayor de 0.70 no deberían ser incluidas en un análisis de regresión múltiple. Como no se da el caso, consideramos que las variables escogidas son propias para elaborar el árbol de decisión.\n",
    "\n",
    "Los parámetros que mayor relación tienen entre sí son RPDE y PPE, tal y como podemos comprobar. A continuación, se elabora la recta de regresión entre sendos atributos del dataframe. Tomaremos una muestra de las 200 primeras filas para montar la nube de puntos."
   ]
  },
  {
   "cell_type": "code",
   "execution_count": 197,
   "metadata": {},
   "outputs": [
    {
     "data": {
      "image/png": "[encoded data removed]",
      "text/plain": [
       "<Figure size 1440x216 with 1 Axes>"
      ]
     },
     "metadata": {
      "needs_background": "light"
     },
     "output_type": "display_data"
    }
   ],
   "source": [
    "from sklearn import linear_model\n",
    "\n",
    "num_filas=200\n",
    "\n",
    "plt.rcParams[\"figure.figsize\"] = (20,3)\n",
    "\n",
    "RPDE=parkinson_dataframe.RPDE.head(num_filas).to_numpy().reshape(-1,1)\n",
    "PPE=parkinson_dataframe.head(num_filas).PPE.to_numpy()\n",
    "\n",
    "model_lineal = linear_model.LinearRegression()\n",
    "model_lineal.fit(RPDE,PPE)\n",
    "\n",
    "y_model_lineal_pred = model_lineal.predict(RPDE)\n",
    "\n",
    "plt.scatter(RPDE, PPE,color='green')\n",
    "plt.plot(RPDE, y_model_lineal_pred, color='red')\n",
    "plt.xlabel('RPDE')\n",
    "plt.ylabel('PPE')\n",
    "plt.show()"
   ]
  },
  {
   "cell_type": "markdown",
   "metadata": {},
   "source": [
    "A continuación, vamos a montar el árbol de Decisión."
   ]
  },
  {
   "cell_type": "code",
   "execution_count": 198,
   "metadata": {},
   "outputs": [],
   "source": [
    "from sklearn.tree import DecisionTreeClassifier\n",
    "\n",
    "model = DecisionTreeClassifier()\n",
    "\n",
    "#model.fit(parkinson_dataframe,y)"
   ]
  },
  {
   "cell_type": "markdown",
   "metadata": {},
   "source": [
    "si intentamos ejecutar directamente el ***model.fit*** comentado anteriormente, el error que aparece es el siguiente: \n",
    "\n",
    "<img src=\"error_continuous.png\"  style=\"width: 600px;\">\n",
    "\n",
    "<font color='red'>ValueError:</font> Unknown label type: 'continuous'"
   ]
  },
  {
   "cell_type": "markdown",
   "metadata": {},
   "source": [
    "Esto se debe a que, tal y como se ha descubierto indagando en fuentes como [esta](https://stackoverflow.com/questions/41925157/logisticregression-unknown-label-type-continuous-using-sklearn-in-python), se están intentando pasar valores NO categóricos (valores continuos) como vector objetivo.  Si convertimos los valores float a enteros, el array será aceptado como parámetro de entrada en la función fit. \n",
    "\n",
    "Otra opción más elegante, consiste en convertir las puntuaciones de entrenamiento utilizando la función *labelEncoder* de *scikit.learn*\n",
    "\n"
   ]
  },
  {
   "cell_type": "code",
   "execution_count": 199,
   "metadata": {},
   "outputs": [
    {
     "data": {
      "text/plain": [
       "DecisionTreeClassifier(class_weight=None, criterion='gini', max_depth=None,\n",
       "                       max_features=None, max_leaf_nodes=None,\n",
       "                       min_impurity_decrease=0.0, min_impurity_split=None,\n",
       "                       min_samples_leaf=1, min_samples_split=2,\n",
       "                       min_weight_fraction_leaf=0.0, presort=False,\n",
       "                       random_state=None, splitter='best')"
      ]
     },
     "execution_count": 199,
     "metadata": {},
     "output_type": "execute_result"
    }
   ],
   "source": [
    "from sklearn import preprocessing\n",
    "\n",
    "y_encoded = preprocessing.LabelEncoder()\n",
    "y_encoded.fit(y)\n",
    "\n",
    "\n",
    "#ahora que tenemos \"y\" etiquetado, podemos aplicar la función fit al modelo.\n",
    "model.fit(parkinson_dataframe,y_encoded.transform(y))\n"
   ]
  },
  {
   "cell_type": "code",
   "execution_count": 258,
   "metadata": {},
   "outputs": [
    {
     "name": "stdout",
     "output_type": "stream",
     "text": [
      "|--- motor_UPDRS <= 0.50\n",
      "|   |--- age <= 0.50\n",
      "|   |   |--- RPDE <= 0.50\n",
      "|   |   |   |--- PPE <= 0.50\n",
      "|   |   |   |   |--- class: 0\n",
      "|   |   |   |--- PPE >  0.50\n",
      "|   |   |   |   |--- class: 1\n",
      "|   |   |--- RPDE >  0.50\n",
      "|   |   |   |--- PPE <= 0.50\n",
      "|   |   |   |   |--- RPDE <= 1.50\n",
      "|   |   |   |   |   |--- class: 1\n",
      "|   |   |   |   |--- RPDE >  1.50\n",
      "|   |   |   |   |   |--- class: 1\n",
      "|   |   |   |--- PPE >  0.50\n",
      "|   |   |   |   |--- PPE <= 1.50\n",
      "|   |   |   |   |   |--- RPDE <= 1.50\n",
      "|   |   |   |   |   |   |--- class: 1\n",
      "|   |   |   |   |   |--- RPDE >  1.50\n",
      "|   |   |   |   |   |   |--- class: 1\n",
      "|   |   |   |   |--- PPE >  1.50\n",
      "|   |   |   |   |   |--- RPDE <= 1.50\n",
      "|   |   |   |   |   |   |--- class: 2\n",
      "|   |   |   |   |   |--- RPDE >  1.50\n",
      "|   |   |   |   |   |   |--- class: 2\n",
      "|   |--- age >  0.50\n",
      "|   |   |--- RPDE <= 0.50\n",
      "|   |   |   |--- PPE <= 0.50\n",
      "|   |   |   |   |--- class: 0\n",
      "|   |   |   |--- PPE >  0.50\n",
      "|   |   |   |   |--- class: 2\n",
      "|   |   |--- RPDE >  0.50\n",
      "|   |   |   |--- PPE <= 0.50\n",
      "|   |   |   |   |--- RPDE <= 1.50\n",
      "|   |   |   |   |   |--- class: 2\n",
      "|   |   |   |   |--- RPDE >  1.50\n",
      "|   |   |   |   |   |--- class: 2\n",
      "|   |   |   |--- PPE >  0.50\n",
      "|   |   |   |   |--- RPDE <= 1.50\n",
      "|   |   |   |   |   |--- class: 2\n",
      "|   |   |   |   |--- RPDE >  1.50\n",
      "|   |   |   |   |   |--- PPE <= 1.50\n",
      "|   |   |   |   |   |   |--- class: 2\n",
      "|   |   |   |   |   |--- PPE >  1.50\n",
      "|   |   |   |   |   |   |--- class: 2\n",
      "|--- motor_UPDRS >  0.50\n",
      "|   |--- motor_UPDRS <= 1.50\n",
      "|   |   |--- age <= 0.50\n",
      "|   |   |   |--- RPDE <= 1.50\n",
      "|   |   |   |   |--- PPE <= 0.50\n",
      "|   |   |   |   |   |--- RPDE <= 0.50\n",
      "|   |   |   |   |   |   |--- class: 3\n",
      "|   |   |   |   |   |--- RPDE >  0.50\n",
      "|   |   |   |   |   |   |--- class: 3\n",
      "|   |   |   |   |--- PPE >  0.50\n",
      "|   |   |   |   |   |--- RPDE <= 0.50\n",
      "|   |   |   |   |   |   |--- class: 2\n",
      "|   |   |   |   |   |--- RPDE >  0.50\n",
      "|   |   |   |   |   |   |--- PPE <= 1.50\n",
      "|   |   |   |   |   |   |   |--- class: 3\n",
      "|   |   |   |   |   |   |--- PPE >  1.50\n",
      "|   |   |   |   |   |   |   |--- class: 3\n",
      "|   |   |   |--- RPDE >  1.50\n",
      "|   |   |   |   |--- PPE <= 0.50\n",
      "|   |   |   |   |   |--- class: 3\n",
      "|   |   |   |   |--- PPE >  0.50\n",
      "|   |   |   |   |   |--- PPE <= 1.50\n",
      "|   |   |   |   |   |   |--- class: 3\n",
      "|   |   |   |   |   |--- PPE >  1.50\n",
      "|   |   |   |   |   |   |--- class: 3\n",
      "|   |   |--- age >  0.50\n",
      "|   |   |   |--- RPDE <= 1.50\n",
      "|   |   |   |   |--- RPDE <= 0.50\n",
      "|   |   |   |   |   |--- PPE <= 0.50\n",
      "|   |   |   |   |   |   |--- class: 3\n",
      "|   |   |   |   |   |--- PPE >  0.50\n",
      "|   |   |   |   |   |   |--- class: 2\n",
      "|   |   |   |   |--- RPDE >  0.50\n",
      "|   |   |   |   |   |--- PPE <= 0.50\n",
      "|   |   |   |   |   |   |--- class: 3\n",
      "|   |   |   |   |   |--- PPE >  0.50\n",
      "|   |   |   |   |   |   |--- class: 3\n",
      "|   |   |   |--- RPDE >  1.50\n",
      "|   |   |   |   |--- PPE <= 0.50\n",
      "|   |   |   |   |   |--- class: 3\n",
      "|   |   |   |   |--- PPE >  0.50\n",
      "|   |   |   |   |   |--- PPE <= 1.50\n",
      "|   |   |   |   |   |   |--- class: 2\n",
      "|   |   |   |   |   |--- PPE >  1.50\n",
      "|   |   |   |   |   |   |--- class: 2\n",
      "|   |--- motor_UPDRS >  1.50\n",
      "|   |   |--- PPE <= 0.50\n",
      "|   |   |   |--- age <= 0.50\n",
      "|   |   |   |   |--- RPDE <= 1.50\n",
      "|   |   |   |   |   |--- RPDE <= 0.50\n",
      "|   |   |   |   |   |   |--- class: 5\n",
      "|   |   |   |   |   |--- RPDE >  0.50\n",
      "|   |   |   |   |   |   |--- class: 5\n",
      "|   |   |   |   |--- RPDE >  1.50\n",
      "|   |   |   |   |   |--- class: 4\n",
      "|   |   |   |--- age >  0.50\n",
      "|   |   |   |   |--- RPDE <= 1.50\n",
      "|   |   |   |   |   |--- RPDE <= 0.50\n",
      "|   |   |   |   |   |   |--- class: 4\n",
      "|   |   |   |   |   |--- RPDE >  0.50\n",
      "|   |   |   |   |   |   |--- class: 4\n",
      "|   |   |   |   |--- RPDE >  1.50\n",
      "|   |   |   |   |   |--- class: 5\n",
      "|   |   |--- PPE >  0.50\n",
      "|   |   |   |--- RPDE <= 0.50\n",
      "|   |   |   |   |--- class: 6\n",
      "|   |   |   |--- RPDE >  0.50\n",
      "|   |   |   |   |--- RPDE <= 1.50\n",
      "|   |   |   |   |   |--- age <= 0.50\n",
      "|   |   |   |   |   |   |--- PPE <= 1.50\n",
      "|   |   |   |   |   |   |   |--- class: 5\n",
      "|   |   |   |   |   |   |--- PPE >  1.50\n",
      "|   |   |   |   |   |   |   |--- class: 4\n",
      "|   |   |   |   |   |--- age >  0.50\n",
      "|   |   |   |   |   |   |--- PPE <= 1.50\n",
      "|   |   |   |   |   |   |   |--- class: 4\n",
      "|   |   |   |   |   |   |--- PPE >  1.50\n",
      "|   |   |   |   |   |   |   |--- class: 5\n",
      "|   |   |   |   |--- RPDE >  1.50\n",
      "|   |   |   |   |   |--- age <= 0.50\n",
      "|   |   |   |   |   |   |--- class: 4\n",
      "|   |   |   |   |   |--- age >  0.50\n",
      "|   |   |   |   |   |   |--- PPE <= 1.50\n",
      "|   |   |   |   |   |   |   |--- class: 4\n",
      "|   |   |   |   |   |   |--- PPE >  1.50\n",
      "|   |   |   |   |   |   |   |--- class: 4\n",
      "\n"
     ]
    }
   ],
   "source": [
    "from sklearn.tree.export import export_text\n",
    "\n",
    "model_text = export_text(model, feature_names=parkinson_features)\n",
    "print(model_text)"
   ]
  },
  {
   "cell_type": "markdown",
   "metadata": {},
   "source": [
    "A continuación, exportamos el árbol como imagen"
   ]
  },
  {
   "cell_type": "code",
   "execution_count": 259,
   "metadata": {},
   "outputs": [],
   "source": [
    "from sklearn.tree import export_graphviz\n",
    "\n",
    "export_graphviz(\n",
    "    model,\n",
    "    out_file=\"first_tree.dot\",\n",
    "    feature_names=parkinson_features,\n",
    "    rounded=True,\n",
    "    filled=True)"
   ]
  },
  {
   "cell_type": "code",
   "execution_count": 260,
   "metadata": {},
   "outputs": [],
   "source": [
    "!dot -Tpng first_tree.dot -o first_tree.png"
   ]
  },
  {
   "cell_type": "markdown",
   "metadata": {},
   "source": [
    "El arbol resultante, tal y como se anticipaba antes, tiene una cantidad de nodos excesiva. El problema principal, que no hemos tenido en cuenta desde el principio, es que estamos tratando **variables continuas que no han sido categorizadas**, por lo que **hay que asignar rangos a cada uno de los valores de los atributos a incluir en el clasificador**. "
   ]
  },
  {
   "cell_type": "code",
   "execution_count": 261,
   "metadata": {},
   "outputs": [
    {
     "data": {
      "text/html": [
       "<div>\n",
       "<style scoped>\n",
       "    .dataframe tbody tr th:only-of-type {\n",
       "        vertical-align: middle;\n",
       "    }\n",
       "\n",
       "    .dataframe tbody tr th {\n",
       "        vertical-align: top;\n",
       "    }\n",
       "\n",
       "    .dataframe thead th {\n",
       "        text-align: right;\n",
       "    }\n",
       "</style>\n",
       "<table border=\"1\" class=\"dataframe\">\n",
       "  <thead>\n",
       "    <tr style=\"text-align: right;\">\n",
       "      <th></th>\n",
       "      <th>subject#</th>\n",
       "      <th>age</th>\n",
       "      <th>sex</th>\n",
       "      <th>test_time</th>\n",
       "      <th>motor_UPDRS</th>\n",
       "      <th>total_UPDRS</th>\n",
       "      <th>Jitter(%)</th>\n",
       "      <th>Jitter(Abs)</th>\n",
       "      <th>Jitter:RAP</th>\n",
       "      <th>Jitter:PPQ5</th>\n",
       "      <th>...</th>\n",
       "      <th>Shimmer(dB)</th>\n",
       "      <th>Shimmer:APQ3</th>\n",
       "      <th>Shimmer:APQ5</th>\n",
       "      <th>Shimmer:APQ11</th>\n",
       "      <th>Shimmer:DDA</th>\n",
       "      <th>NHR</th>\n",
       "      <th>HNR</th>\n",
       "      <th>RPDE</th>\n",
       "      <th>DFA</th>\n",
       "      <th>PPE</th>\n",
       "    </tr>\n",
       "  </thead>\n",
       "  <tbody>\n",
       "    <tr>\n",
       "      <td>count</td>\n",
       "      <td>5875.000000</td>\n",
       "      <td>5875.000000</td>\n",
       "      <td>5875.000000</td>\n",
       "      <td>5875.000000</td>\n",
       "      <td>5875.000000</td>\n",
       "      <td>5875.000000</td>\n",
       "      <td>5875.000000</td>\n",
       "      <td>5875.000000</td>\n",
       "      <td>5875.000000</td>\n",
       "      <td>5875.000000</td>\n",
       "      <td>...</td>\n",
       "      <td>5875.000000</td>\n",
       "      <td>5875.000000</td>\n",
       "      <td>5875.000000</td>\n",
       "      <td>5875.000000</td>\n",
       "      <td>5875.000000</td>\n",
       "      <td>5875.000000</td>\n",
       "      <td>5875.000000</td>\n",
       "      <td>5875.000000</td>\n",
       "      <td>5875.000000</td>\n",
       "      <td>5875.000000</td>\n",
       "    </tr>\n",
       "    <tr>\n",
       "      <td>mean</td>\n",
       "      <td>21.494128</td>\n",
       "      <td>64.804936</td>\n",
       "      <td>0.317787</td>\n",
       "      <td>92.863722</td>\n",
       "      <td>21.296229</td>\n",
       "      <td>29.018942</td>\n",
       "      <td>0.006154</td>\n",
       "      <td>0.000044</td>\n",
       "      <td>0.002987</td>\n",
       "      <td>0.003277</td>\n",
       "      <td>...</td>\n",
       "      <td>0.310960</td>\n",
       "      <td>0.017156</td>\n",
       "      <td>0.020144</td>\n",
       "      <td>0.027481</td>\n",
       "      <td>0.051467</td>\n",
       "      <td>0.032120</td>\n",
       "      <td>21.679495</td>\n",
       "      <td>0.541473</td>\n",
       "      <td>0.653240</td>\n",
       "      <td>0.219589</td>\n",
       "    </tr>\n",
       "    <tr>\n",
       "      <td>std</td>\n",
       "      <td>12.372279</td>\n",
       "      <td>8.821524</td>\n",
       "      <td>0.465656</td>\n",
       "      <td>53.445602</td>\n",
       "      <td>8.129282</td>\n",
       "      <td>10.700283</td>\n",
       "      <td>0.005624</td>\n",
       "      <td>0.000036</td>\n",
       "      <td>0.003124</td>\n",
       "      <td>0.003732</td>\n",
       "      <td>...</td>\n",
       "      <td>0.230254</td>\n",
       "      <td>0.013237</td>\n",
       "      <td>0.016664</td>\n",
       "      <td>0.019986</td>\n",
       "      <td>0.039711</td>\n",
       "      <td>0.059692</td>\n",
       "      <td>4.291096</td>\n",
       "      <td>0.100986</td>\n",
       "      <td>0.070902</td>\n",
       "      <td>0.091498</td>\n",
       "    </tr>\n",
       "    <tr>\n",
       "      <td>min</td>\n",
       "      <td>1.000000</td>\n",
       "      <td>36.000000</td>\n",
       "      <td>0.000000</td>\n",
       "      <td>-4.262500</td>\n",
       "      <td>5.037700</td>\n",
       "      <td>7.000000</td>\n",
       "      <td>0.000830</td>\n",
       "      <td>0.000002</td>\n",
       "      <td>0.000330</td>\n",
       "      <td>0.000430</td>\n",
       "      <td>...</td>\n",
       "      <td>0.026000</td>\n",
       "      <td>0.001610</td>\n",
       "      <td>0.001940</td>\n",
       "      <td>0.002490</td>\n",
       "      <td>0.004840</td>\n",
       "      <td>0.000286</td>\n",
       "      <td>1.659000</td>\n",
       "      <td>0.151020</td>\n",
       "      <td>0.514040</td>\n",
       "      <td>0.021983</td>\n",
       "    </tr>\n",
       "    <tr>\n",
       "      <td>25%</td>\n",
       "      <td>10.000000</td>\n",
       "      <td>58.000000</td>\n",
       "      <td>0.000000</td>\n",
       "      <td>46.847500</td>\n",
       "      <td>15.000000</td>\n",
       "      <td>21.371000</td>\n",
       "      <td>0.003580</td>\n",
       "      <td>0.000022</td>\n",
       "      <td>0.001580</td>\n",
       "      <td>0.001820</td>\n",
       "      <td>...</td>\n",
       "      <td>0.175000</td>\n",
       "      <td>0.009280</td>\n",
       "      <td>0.010790</td>\n",
       "      <td>0.015665</td>\n",
       "      <td>0.027830</td>\n",
       "      <td>0.010955</td>\n",
       "      <td>19.406000</td>\n",
       "      <td>0.469785</td>\n",
       "      <td>0.596180</td>\n",
       "      <td>0.156340</td>\n",
       "    </tr>\n",
       "    <tr>\n",
       "      <td>50%</td>\n",
       "      <td>22.000000</td>\n",
       "      <td>65.000000</td>\n",
       "      <td>0.000000</td>\n",
       "      <td>91.523000</td>\n",
       "      <td>20.871000</td>\n",
       "      <td>27.576000</td>\n",
       "      <td>0.004900</td>\n",
       "      <td>0.000035</td>\n",
       "      <td>0.002250</td>\n",
       "      <td>0.002490</td>\n",
       "      <td>...</td>\n",
       "      <td>0.253000</td>\n",
       "      <td>0.013700</td>\n",
       "      <td>0.015940</td>\n",
       "      <td>0.022710</td>\n",
       "      <td>0.041110</td>\n",
       "      <td>0.018448</td>\n",
       "      <td>21.920000</td>\n",
       "      <td>0.542250</td>\n",
       "      <td>0.643600</td>\n",
       "      <td>0.205500</td>\n",
       "    </tr>\n",
       "    <tr>\n",
       "      <td>75%</td>\n",
       "      <td>33.000000</td>\n",
       "      <td>72.000000</td>\n",
       "      <td>1.000000</td>\n",
       "      <td>138.445000</td>\n",
       "      <td>27.596500</td>\n",
       "      <td>36.399000</td>\n",
       "      <td>0.006800</td>\n",
       "      <td>0.000053</td>\n",
       "      <td>0.003290</td>\n",
       "      <td>0.003460</td>\n",
       "      <td>...</td>\n",
       "      <td>0.365000</td>\n",
       "      <td>0.020575</td>\n",
       "      <td>0.023755</td>\n",
       "      <td>0.032715</td>\n",
       "      <td>0.061735</td>\n",
       "      <td>0.031463</td>\n",
       "      <td>24.444000</td>\n",
       "      <td>0.614045</td>\n",
       "      <td>0.711335</td>\n",
       "      <td>0.264490</td>\n",
       "    </tr>\n",
       "    <tr>\n",
       "      <td>max</td>\n",
       "      <td>42.000000</td>\n",
       "      <td>85.000000</td>\n",
       "      <td>1.000000</td>\n",
       "      <td>215.490000</td>\n",
       "      <td>39.511000</td>\n",
       "      <td>54.992000</td>\n",
       "      <td>0.099990</td>\n",
       "      <td>0.000446</td>\n",
       "      <td>0.057540</td>\n",
       "      <td>0.069560</td>\n",
       "      <td>...</td>\n",
       "      <td>2.107000</td>\n",
       "      <td>0.162670</td>\n",
       "      <td>0.167020</td>\n",
       "      <td>0.275460</td>\n",
       "      <td>0.488020</td>\n",
       "      <td>0.748260</td>\n",
       "      <td>37.875000</td>\n",
       "      <td>0.966080</td>\n",
       "      <td>0.865600</td>\n",
       "      <td>0.731730</td>\n",
       "    </tr>\n",
       "  </tbody>\n",
       "</table>\n",
       "<p>8 rows × 22 columns</p>\n",
       "</div>"
      ],
      "text/plain": [
       "          subject#          age          sex    test_time  motor_UPDRS  \\\n",
       "count  5875.000000  5875.000000  5875.000000  5875.000000  5875.000000   \n",
       "mean     21.494128    64.804936     0.317787    92.863722    21.296229   \n",
       "std      12.372279     8.821524     0.465656    53.445602     8.129282   \n",
       "min       1.000000    36.000000     0.000000    -4.262500     5.037700   \n",
       "25%      10.000000    58.000000     0.000000    46.847500    15.000000   \n",
       "50%      22.000000    65.000000     0.000000    91.523000    20.871000   \n",
       "75%      33.000000    72.000000     1.000000   138.445000    27.596500   \n",
       "max      42.000000    85.000000     1.000000   215.490000    39.511000   \n",
       "\n",
       "       total_UPDRS    Jitter(%)  Jitter(Abs)   Jitter:RAP  Jitter:PPQ5  ...  \\\n",
       "count  5875.000000  5875.000000  5875.000000  5875.000000  5875.000000  ...   \n",
       "mean     29.018942     0.006154     0.000044     0.002987     0.003277  ...   \n",
       "std      10.700283     0.005624     0.000036     0.003124     0.003732  ...   \n",
       "min       7.000000     0.000830     0.000002     0.000330     0.000430  ...   \n",
       "25%      21.371000     0.003580     0.000022     0.001580     0.001820  ...   \n",
       "50%      27.576000     0.004900     0.000035     0.002250     0.002490  ...   \n",
       "75%      36.399000     0.006800     0.000053     0.003290     0.003460  ...   \n",
       "max      54.992000     0.099990     0.000446     0.057540     0.069560  ...   \n",
       "\n",
       "       Shimmer(dB)  Shimmer:APQ3  Shimmer:APQ5  Shimmer:APQ11  Shimmer:DDA  \\\n",
       "count  5875.000000   5875.000000   5875.000000    5875.000000  5875.000000   \n",
       "mean      0.310960      0.017156      0.020144       0.027481     0.051467   \n",
       "std       0.230254      0.013237      0.016664       0.019986     0.039711   \n",
       "min       0.026000      0.001610      0.001940       0.002490     0.004840   \n",
       "25%       0.175000      0.009280      0.010790       0.015665     0.027830   \n",
       "50%       0.253000      0.013700      0.015940       0.022710     0.041110   \n",
       "75%       0.365000      0.020575      0.023755       0.032715     0.061735   \n",
       "max       2.107000      0.162670      0.167020       0.275460     0.488020   \n",
       "\n",
       "               NHR          HNR         RPDE          DFA          PPE  \n",
       "count  5875.000000  5875.000000  5875.000000  5875.000000  5875.000000  \n",
       "mean      0.032120    21.679495     0.541473     0.653240     0.219589  \n",
       "std       0.059692     4.291096     0.100986     0.070902     0.091498  \n",
       "min       0.000286     1.659000     0.151020     0.514040     0.021983  \n",
       "25%       0.010955    19.406000     0.469785     0.596180     0.156340  \n",
       "50%       0.018448    21.920000     0.542250     0.643600     0.205500  \n",
       "75%       0.031463    24.444000     0.614045     0.711335     0.264490  \n",
       "max       0.748260    37.875000     0.966080     0.865600     0.731730  \n",
       "\n",
       "[8 rows x 22 columns]"
      ]
     },
     "execution_count": 261,
     "metadata": {},
     "output_type": "execute_result"
    }
   ],
   "source": [
    "#vista general y estadísticas (valores mínimo y máximo de cada atributo, valor medio, ...)\n",
    "data = pd.read_csv(\"parkinsons_updrs.csv\") \n",
    "data.describe()"
   ]
  },
  {
   "cell_type": "code",
   "execution_count": 262,
   "metadata": {},
   "outputs": [
    {
     "data": {
      "text/html": [
       "<div>\n",
       "<style scoped>\n",
       "    .dataframe tbody tr th:only-of-type {\n",
       "        vertical-align: middle;\n",
       "    }\n",
       "\n",
       "    .dataframe tbody tr th {\n",
       "        vertical-align: top;\n",
       "    }\n",
       "\n",
       "    .dataframe thead th {\n",
       "        text-align: right;\n",
       "    }\n",
       "</style>\n",
       "<table border=\"1\" class=\"dataframe\">\n",
       "  <thead>\n",
       "    <tr style=\"text-align: right;\">\n",
       "      <th></th>\n",
       "      <th>subject#</th>\n",
       "      <th>age</th>\n",
       "      <th>sex</th>\n",
       "      <th>test_time</th>\n",
       "      <th>motor_UPDRS</th>\n",
       "      <th>total_UPDRS</th>\n",
       "      <th>Jitter(%)</th>\n",
       "      <th>Jitter(Abs)</th>\n",
       "      <th>Jitter:RAP</th>\n",
       "      <th>Jitter:PPQ5</th>\n",
       "      <th>...</th>\n",
       "      <th>Shimmer:APQ3</th>\n",
       "      <th>Shimmer:APQ5</th>\n",
       "      <th>Shimmer:APQ11</th>\n",
       "      <th>Shimmer:DDA</th>\n",
       "      <th>NHR</th>\n",
       "      <th>HNR</th>\n",
       "      <th>RPDE</th>\n",
       "      <th>DFA</th>\n",
       "      <th>PPE</th>\n",
       "      <th>target</th>\n",
       "    </tr>\n",
       "  </thead>\n",
       "  <tbody>\n",
       "    <tr>\n",
       "      <td>0</td>\n",
       "      <td>1</td>\n",
       "      <td>1</td>\n",
       "      <td>0</td>\n",
       "      <td>5.6431</td>\n",
       "      <td>1</td>\n",
       "      <td>1</td>\n",
       "      <td>0.00662</td>\n",
       "      <td>0.000034</td>\n",
       "      <td>0.00401</td>\n",
       "      <td>0.00317</td>\n",
       "      <td>...</td>\n",
       "      <td>0.01438</td>\n",
       "      <td>0.01309</td>\n",
       "      <td>0.01662</td>\n",
       "      <td>0.04314</td>\n",
       "      <td>0.014290</td>\n",
       "      <td>21.640</td>\n",
       "      <td>1</td>\n",
       "      <td>0.54842</td>\n",
       "      <td>0</td>\n",
       "      <td>1</td>\n",
       "    </tr>\n",
       "    <tr>\n",
       "      <td>1</td>\n",
       "      <td>1</td>\n",
       "      <td>1</td>\n",
       "      <td>0</td>\n",
       "      <td>12.6660</td>\n",
       "      <td>1</td>\n",
       "      <td>1</td>\n",
       "      <td>0.00300</td>\n",
       "      <td>0.000017</td>\n",
       "      <td>0.00132</td>\n",
       "      <td>0.00150</td>\n",
       "      <td>...</td>\n",
       "      <td>0.00994</td>\n",
       "      <td>0.01072</td>\n",
       "      <td>0.01689</td>\n",
       "      <td>0.02982</td>\n",
       "      <td>0.011112</td>\n",
       "      <td>27.183</td>\n",
       "      <td>1</td>\n",
       "      <td>0.56477</td>\n",
       "      <td>0</td>\n",
       "      <td>1</td>\n",
       "    </tr>\n",
       "    <tr>\n",
       "      <td>2</td>\n",
       "      <td>1</td>\n",
       "      <td>1</td>\n",
       "      <td>0</td>\n",
       "      <td>19.6810</td>\n",
       "      <td>1</td>\n",
       "      <td>1</td>\n",
       "      <td>0.00481</td>\n",
       "      <td>0.000025</td>\n",
       "      <td>0.00205</td>\n",
       "      <td>0.00208</td>\n",
       "      <td>...</td>\n",
       "      <td>0.00734</td>\n",
       "      <td>0.00844</td>\n",
       "      <td>0.01458</td>\n",
       "      <td>0.02202</td>\n",
       "      <td>0.020220</td>\n",
       "      <td>23.047</td>\n",
       "      <td>1</td>\n",
       "      <td>0.54405</td>\n",
       "      <td>1</td>\n",
       "      <td>1</td>\n",
       "    </tr>\n",
       "  </tbody>\n",
       "</table>\n",
       "<p>3 rows × 23 columns</p>\n",
       "</div>"
      ],
      "text/plain": [
       "   subject# age  sex  test_time motor_UPDRS total_UPDRS  Jitter(%)  \\\n",
       "0         1   1    0     5.6431           1           1    0.00662   \n",
       "1         1   1    0    12.6660           1           1    0.00300   \n",
       "2         1   1    0    19.6810           1           1    0.00481   \n",
       "\n",
       "   Jitter(Abs)  Jitter:RAP  Jitter:PPQ5  ...  Shimmer:APQ3  Shimmer:APQ5  \\\n",
       "0     0.000034     0.00401      0.00317  ...       0.01438       0.01309   \n",
       "1     0.000017     0.00132      0.00150  ...       0.00994       0.01072   \n",
       "2     0.000025     0.00205      0.00208  ...       0.00734       0.00844   \n",
       "\n",
       "   Shimmer:APQ11  Shimmer:DDA       NHR     HNR  RPDE      DFA  PPE target  \n",
       "0        0.01662      0.04314  0.014290  21.640     1  0.54842    0      1  \n",
       "1        0.01689      0.02982  0.011112  27.183     1  0.56477    0      1  \n",
       "2        0.01458      0.02202  0.020220  23.047     1  0.54405    1      1  \n",
       "\n",
       "[3 rows x 23 columns]"
      ]
     },
     "execution_count": 262,
     "metadata": {},
     "output_type": "execute_result"
    }
   ],
   "source": [
    "data = pd.read_csv(\"parkinsons_updrs.csv\") \n",
    "\n",
    "# a partir de los valores de data.describe() vamos a etiquetar estos valores\n",
    "#edad minima registrada 36, edad máxima 85, edad media 65. Vamos a dar categoría de adulto y anciano por estos intervalos.\n",
    "data.age=pd.cut(data.age,bins=[35,64,88],labels=[0,1]) #adulto=0 o anciano=1\n",
    "data.motor_UPDRS=pd.cut(data.motor_UPDRS,bins=[5,20,30,40],labels=[0,1,2]) #low=0, medium=1, high=2\n",
    "data.total_UPDRS=pd.cut(data.total_UPDRS,bins=[6,24,36,55],labels=[0,1,2])\n",
    "#opción interesante a explorar: clasificar total updrs en más tipos\n",
    "#data.total_UPDRS=pd.cut(data.total_UPDRS,bins=[6,14,22,30,38,44,52,55],labels=[0,1,2,3,4,5,6])\n",
    "data.PPE=pd.cut(data.PPE,bins=[0.02,0.21, 0.5, 0.74],labels=[0,1,2])\n",
    "data.RPDE=pd.cut(data.RPDE,bins=[0.15,0.41, 0.65, 0.97],labels=[0,1,2])\n",
    "data['target'] = 1\n",
    "#comprobamos que los valores se etiquetaron tal y como se esperaba\n",
    "data.head(3)"
   ]
  },
  {
   "cell_type": "markdown",
   "metadata": {},
   "source": [
    "Ahora sí podemos separar los datos y aplicar el modelo tal y como se deseaba en un comienzo."
   ]
  },
  {
   "cell_type": "code",
   "execution_count": 278,
   "metadata": {},
   "outputs": [],
   "source": [
    "#Elegimos las características que van a conformar nuestro árbol de decisión, que son las que hemos reconvertido.\n",
    "\n",
    "parkinson_features = ['age', 'motor_UPDRS', 'RPDE', 'PPE']\n",
    "\n",
    "parkinson_dataframe = pd.DataFrame(data, columns=parkinson_features)"
   ]
  },
  {
   "cell_type": "code",
   "execution_count": 279,
   "metadata": {},
   "outputs": [
    {
     "data": {
      "text/plain": [
       "DecisionTreeClassifier(class_weight=None, criterion='gini', max_depth=None,\n",
       "                       max_features=None, max_leaf_nodes=None,\n",
       "                       min_impurity_decrease=0.0, min_impurity_split=None,\n",
       "                       min_samples_leaf=1, min_samples_split=2,\n",
       "                       min_weight_fraction_leaf=0.0, presort=False,\n",
       "                       random_state=None, splitter='best')"
      ]
     },
     "execution_count": 279,
     "metadata": {},
     "output_type": "execute_result"
    }
   ],
   "source": [
    "model = DecisionTreeClassifier()\n",
    "\n",
    "model.fit(parkinson_dataframe,data.total_UPDRS)\n"
   ]
  },
  {
   "cell_type": "code",
   "execution_count": 280,
   "metadata": {},
   "outputs": [
    {
     "name": "stdout",
     "output_type": "stream",
     "text": [
      "|--- motor_UPDRS <= 0.50\n",
      "|   |--- age <= 0.50\n",
      "|   |   |--- PPE <= 0.50\n",
      "|   |   |   |--- RPDE <= 1.50\n",
      "|   |   |   |   |--- RPDE <= 0.50\n",
      "|   |   |   |   |   |--- class: 0\n",
      "|   |   |   |   |--- RPDE >  0.50\n",
      "|   |   |   |   |   |--- class: 0\n",
      "|   |   |   |--- RPDE >  1.50\n",
      "|   |   |   |   |--- class: 0\n",
      "|   |   |--- PPE >  0.50\n",
      "|   |   |   |--- PPE <= 1.50\n",
      "|   |   |   |   |--- RPDE <= 0.50\n",
      "|   |   |   |   |   |--- class: 0\n",
      "|   |   |   |   |--- RPDE >  0.50\n",
      "|   |   |   |   |   |--- RPDE <= 1.50\n",
      "|   |   |   |   |   |   |--- class: 0\n",
      "|   |   |   |   |   |--- RPDE >  1.50\n",
      "|   |   |   |   |   |   |--- class: 0\n",
      "|   |   |   |--- PPE >  1.50\n",
      "|   |   |   |   |--- RPDE <= 1.50\n",
      "|   |   |   |   |   |--- class: 1\n",
      "|   |   |   |   |--- RPDE >  1.50\n",
      "|   |   |   |   |   |--- class: 1\n",
      "|   |--- age >  0.50\n",
      "|   |   |--- RPDE <= 0.50\n",
      "|   |   |   |--- PPE <= 0.50\n",
      "|   |   |   |   |--- class: 0\n",
      "|   |   |   |--- PPE >  0.50\n",
      "|   |   |   |   |--- class: 0\n",
      "|   |   |--- RPDE >  0.50\n",
      "|   |   |   |--- PPE <= 1.50\n",
      "|   |   |   |   |--- RPDE <= 1.50\n",
      "|   |   |   |   |   |--- PPE <= 0.50\n",
      "|   |   |   |   |   |   |--- class: 0\n",
      "|   |   |   |   |   |--- PPE >  0.50\n",
      "|   |   |   |   |   |   |--- class: 0\n",
      "|   |   |   |   |--- RPDE >  1.50\n",
      "|   |   |   |   |   |--- PPE <= 0.50\n",
      "|   |   |   |   |   |   |--- class: 0\n",
      "|   |   |   |   |   |--- PPE >  0.50\n",
      "|   |   |   |   |   |   |--- class: 1\n",
      "|   |   |   |--- PPE >  1.50\n",
      "|   |   |   |   |--- class: 1\n",
      "|--- motor_UPDRS >  0.50\n",
      "|   |--- motor_UPDRS <= 1.50\n",
      "|   |   |--- PPE <= 1.50\n",
      "|   |   |   |--- age <= 0.50\n",
      "|   |   |   |   |--- RPDE <= 1.50\n",
      "|   |   |   |   |   |--- PPE <= 0.50\n",
      "|   |   |   |   |   |   |--- RPDE <= 0.50\n",
      "|   |   |   |   |   |   |   |--- class: 1\n",
      "|   |   |   |   |   |   |--- RPDE >  0.50\n",
      "|   |   |   |   |   |   |   |--- class: 1\n",
      "|   |   |   |   |   |--- PPE >  0.50\n",
      "|   |   |   |   |   |   |--- RPDE <= 0.50\n",
      "|   |   |   |   |   |   |   |--- class: 1\n",
      "|   |   |   |   |   |   |--- RPDE >  0.50\n",
      "|   |   |   |   |   |   |   |--- class: 1\n",
      "|   |   |   |   |--- RPDE >  1.50\n",
      "|   |   |   |   |   |--- PPE <= 0.50\n",
      "|   |   |   |   |   |   |--- class: 1\n",
      "|   |   |   |   |   |--- PPE >  0.50\n",
      "|   |   |   |   |   |   |--- class: 1\n",
      "|   |   |   |--- age >  0.50\n",
      "|   |   |   |   |--- RPDE <= 1.50\n",
      "|   |   |   |   |   |--- RPDE <= 0.50\n",
      "|   |   |   |   |   |   |--- PPE <= 0.50\n",
      "|   |   |   |   |   |   |   |--- class: 1\n",
      "|   |   |   |   |   |   |--- PPE >  0.50\n",
      "|   |   |   |   |   |   |   |--- class: 1\n",
      "|   |   |   |   |   |--- RPDE >  0.50\n",
      "|   |   |   |   |   |   |--- PPE <= 0.50\n",
      "|   |   |   |   |   |   |   |--- class: 1\n",
      "|   |   |   |   |   |   |--- PPE >  0.50\n",
      "|   |   |   |   |   |   |   |--- class: 1\n",
      "|   |   |   |   |--- RPDE >  1.50\n",
      "|   |   |   |   |   |--- PPE <= 0.50\n",
      "|   |   |   |   |   |   |--- class: 2\n",
      "|   |   |   |   |   |--- PPE >  0.50\n",
      "|   |   |   |   |   |   |--- class: 1\n",
      "|   |   |--- PPE >  1.50\n",
      "|   |   |   |--- age <= 0.50\n",
      "|   |   |   |   |--- class: 1\n",
      "|   |   |   |--- age >  0.50\n",
      "|   |   |   |   |--- class: 1\n",
      "|   |--- motor_UPDRS >  1.50\n",
      "|   |   |--- age <= 0.50\n",
      "|   |   |   |--- class: 2\n",
      "|   |   |--- age >  0.50\n",
      "|   |   |   |--- RPDE <= 0.50\n",
      "|   |   |   |   |--- class: 2\n",
      "|   |   |   |--- RPDE >  0.50\n",
      "|   |   |   |   |--- PPE <= 1.50\n",
      "|   |   |   |   |   |--- PPE <= 0.50\n",
      "|   |   |   |   |   |   |--- RPDE <= 1.50\n",
      "|   |   |   |   |   |   |   |--- class: 2\n",
      "|   |   |   |   |   |   |--- RPDE >  1.50\n",
      "|   |   |   |   |   |   |   |--- class: 2\n",
      "|   |   |   |   |   |--- PPE >  0.50\n",
      "|   |   |   |   |   |   |--- RPDE <= 1.50\n",
      "|   |   |   |   |   |   |   |--- class: 2\n",
      "|   |   |   |   |   |   |--- RPDE >  1.50\n",
      "|   |   |   |   |   |   |   |--- class: 2\n",
      "|   |   |   |   |--- PPE >  1.50\n",
      "|   |   |   |   |   |--- class: 2\n",
      "\n"
     ]
    }
   ],
   "source": [
    "from sklearn.tree.export import export_text\n",
    "\n",
    "model_text = export_text(model, feature_names=parkinson_features)\n",
    "print(model_text)"
   ]
  },
  {
   "cell_type": "code",
   "execution_count": 281,
   "metadata": {},
   "outputs": [
    {
     "data": {
      "text/plain": [
       "<matplotlib.axes._subplots.AxesSubplot at 0x131374db6c8>"
      ]
     },
     "execution_count": 281,
     "metadata": {},
     "output_type": "execute_result"
    },
    {
     "data": {
      "image/png": "[encoded data removed]",
      "text/plain": [
       "<Figure size 1080x1080 with 2 Axes>"
      ]
     },
     "metadata": {
      "needs_background": "light"
     },
     "output_type": "display_data"
    }
   ],
   "source": [
    "import seaborn as sns\n",
    "import matplotlib.pyplot as plt\n",
    "plt.figure(figsize=(15,15))\n",
    "plt.title('Coeficiente de Correlación de Pearson entre los atributos después de etiquetar valores continuos', y=1.05, size=15)\n",
    "sns.heatmap(parkinson_dataframe.astype(float).corr(),linewidths=0.1,vmax=1.0, \n",
    "            square=True, cmap='viridis', linecolor='white', annot=True)"
   ]
  },
  {
   "cell_type": "markdown",
   "metadata": {},
   "source": [
    "Es interesante destacar que la correlación de los parámetros ha disminuido considerablemente al utilizar rangos de valores en vez de los valores continuos. "
   ]
  },
  {
   "cell_type": "code",
   "execution_count": 282,
   "metadata": {},
   "outputs": [],
   "source": [
    "from sklearn.tree import export_graphviz\n",
    "\n",
    "export_graphviz(\n",
    "    model,\n",
    "    out_file=\"second_tree.dot\",\n",
    "    feature_names=parkinson_features,\n",
    "    rounded=True,\n",
    "    filled=True)"
   ]
  },
  {
   "cell_type": "code",
   "execution_count": 283,
   "metadata": {},
   "outputs": [],
   "source": [
    "!dot -Tpng second_tree.dot -o second_tree.png"
   ]
  },
  {
   "cell_type": "markdown",
   "metadata": {},
   "source": [
    "El segundo árbol generado es de un número de nodos muchísimo menor, aunque seguimos considerando que se trata de un problema que requiere ser solventado por su *overfitting* (Demasiados nodos, especialmente la rama derecha contiene más)\n",
    "\n",
    "<img src=\"second_tree.png\" style=\"width: 700px;\"/>"
   ]
  },
  {
   "cell_type": "code",
   "execution_count": 236,
   "metadata": {},
   "outputs": [],
   "source": [
    "X_data, y_data, X_names, y_names = \\\n",
    "    parkinson_dataframe, data.total_UPDRS, parkinson_features, \"total_UPDRS\""
   ]
  },
  {
   "cell_type": "code",
   "execution_count": 333,
   "metadata": {},
   "outputs": [],
   "source": [
    "#Evitamos parte del sobreajuste separando en subconjuntos todos los datos, y entrenando el clasificador con datos de entrenamiento\n",
    "\n",
    "from sklearn.model_selection import train_test_split\n",
    "\n",
    "X_train, X_test, y_train, y_test = \\\n",
    "  train_test_split(X_data,y_data,test_size = 0.25,\n",
    "                   random_state=462)"
   ]
  },
  {
   "cell_type": "markdown",
   "metadata": {},
   "source": [
    "Para predeterminar profundidad del árbol, podemos pasar a éste la cantidad máxima de nodos que tendrá como argumento, esta vez utilizando los datos de entrenamiento. Veamos el resultado."
   ]
  },
  {
   "cell_type": "code",
   "execution_count": 315,
   "metadata": {},
   "outputs": [
    {
     "data": {
      "text/plain": [
       "DecisionTreeClassifier(class_weight=None, criterion='gini', max_depth=None,\n",
       "                       max_features=None, max_leaf_nodes=5,\n",
       "                       min_impurity_decrease=0.0, min_impurity_split=None,\n",
       "                       min_samples_leaf=1, min_samples_split=2,\n",
       "                       min_weight_fraction_leaf=0.0, presort=False,\n",
       "                       random_state=None, splitter='best')"
      ]
     },
     "execution_count": 315,
     "metadata": {},
     "output_type": "execute_result"
    }
   ],
   "source": [
    "third_model = DecisionTreeClassifier(max_leaf_nodes=5)\n",
    "\n",
    "third_model.fit(X_train,y_train)"
   ]
  },
  {
   "cell_type": "code",
   "execution_count": 316,
   "metadata": {},
   "outputs": [
    {
     "name": "stdout",
     "output_type": "stream",
     "text": [
      "|--- motor_UPDRS <= 0.50\n",
      "|   |--- age <= 0.50\n",
      "|   |   |--- PPE <= 0.50\n",
      "|   |   |   |--- class: 0\n",
      "|   |   |--- PPE >  0.50\n",
      "|   |   |   |--- class: 0\n",
      "|   |--- age >  0.50\n",
      "|   |   |--- class: 0\n",
      "|--- motor_UPDRS >  0.50\n",
      "|   |--- motor_UPDRS <= 1.50\n",
      "|   |   |--- class: 1\n",
      "|   |--- motor_UPDRS >  1.50\n",
      "|   |   |--- class: 2\n",
      "\n"
     ]
    }
   ],
   "source": [
    "from sklearn.tree.export import export_text\n",
    "\n",
    "model_text = export_text(third_model, feature_names=parkinson_features)\n",
    "print(model_text)"
   ]
  },
  {
   "cell_type": "code",
   "execution_count": 295,
   "metadata": {},
   "outputs": [],
   "source": [
    "from sklearn.tree import export_graphviz\n",
    "\n",
    "export_graphviz(\n",
    "    third_model,\n",
    "    out_file=\"third_tree.dot\",\n",
    "    feature_names=parkinson_features,\n",
    "    rounded=True,\n",
    "    filled=True)"
   ]
  },
  {
   "cell_type": "code",
   "execution_count": 296,
   "metadata": {},
   "outputs": [],
   "source": [
    "!dot -Tpng third_tree.dot -o third_tree.png"
   ]
  },
  {
   "cell_type": "markdown",
   "metadata": {},
   "source": [
    "Habiendo impuesto un máximo de 5 nodos de profundidad por rama, este es el resultado.\n",
    "\n",
    "<img src=\"third_tree.png\" style=\"width: 700px;\"/>"
   ]
  },
  {
   "cell_type": "markdown",
   "metadata": {},
   "source": [
    "Vamos a comparar cómo de buenos son ambos modelos obtenidos a través del [error medio absoluto](https://www.kaggle.com/dansbecker/model-validation): \n",
    "    \n",
    "$$MAE = \\frac{\\sum_{i=1}^{n}|y_i-x_i|}{n}$$"
   ]
  },
  {
   "cell_type": "code",
   "execution_count": 303,
   "metadata": {},
   "outputs": [
    {
     "data": {
      "text/plain": [
       "array([1, 0, 0, 1, 0, 0, 1, 1, 2, 0, 1, 0, 1, 1, 0, 0, 0, 0, 1, 2],\n",
       "      dtype=int64)"
      ]
     },
     "execution_count": 303,
     "metadata": {},
     "output_type": "execute_result"
    }
   ],
   "source": [
    "from sklearn.metrics import mean_absolute_error\n",
    "\n",
    "pred3 = third_model.predict(X_test)\n",
    "pred3[:20]"
   ]
  },
  {
   "cell_type": "code",
   "execution_count": 302,
   "metadata": {},
   "outputs": [
    {
     "data": {
      "text/plain": [
       "array([1, 0, 1, 1, 0, 0, 1, 1, 1, 0, 1, 0, 1, 1, 1, 0, 0, 0, 1, 2],\n",
       "      dtype=int64)"
      ]
     },
     "execution_count": 302,
     "metadata": {},
     "output_type": "execute_result"
    }
   ],
   "source": [
    "y_test.to_numpy()[:20]"
   ]
  },
  {
   "cell_type": "code",
   "execution_count": 325,
   "metadata": {},
   "outputs": [
    {
     "data": {
      "text/plain": [
       "0.2702518720217835"
      ]
     },
     "execution_count": 325,
     "metadata": {},
     "output_type": "execute_result"
    }
   ],
   "source": [
    "#vamos a medir el rendimiento de este último modelo a partir de la diferencia de reusltados\n",
    "#ARBOL DE 5 NODOS DE PROFUNDIDAD COMO MÁXIMO\n",
    "mean_absolute_error(y_test, pred3)"
   ]
  },
  {
   "cell_type": "code",
   "execution_count": 331,
   "metadata": {},
   "outputs": [
    {
     "data": {
      "text/plain": [
       "0.2469787234042553"
      ]
     },
     "execution_count": 331,
     "metadata": {},
     "output_type": "execute_result"
    }
   ],
   "source": [
    "# comparamos con el modelo anterior, DE MÁS COMPLEJIDAD\n",
    "\n",
    "second_model = DecisionTreeClassifier()\n",
    "second_model.fit(parkinson_dataframe,data.total_UPDRS)\n",
    "\n",
    "pred2 = second_model.predict(parkinson_dataframe)\n",
    "mean_absolute_error(data.total_UPDRS, pred2)"
   ]
  },
  {
   "cell_type": "markdown",
   "metadata": {},
   "source": [
    "Aunque la complejidad del modelo es mayor (más número de nodos), aporta algo más de precisión en los resultados, pero siguiendo el principio de la navaja de Ockham, nos quedaríamos con este último, pues tiene pocos nodos de profundidad.\n",
    "\n",
    "Vamos por último a ver qué resultado hubiese salido con el árbol de mayor complejidad si hubiésemos hecho data split de antemano, para comparar sendos árboles en igualdad de condiciones"
   ]
  },
  {
   "cell_type": "code",
   "execution_count": 327,
   "metadata": {},
   "outputs": [
    {
     "data": {
      "text/plain": [
       "DecisionTreeClassifier(class_weight=None, criterion='gini', max_depth=None,\n",
       "                       max_features=None, max_leaf_nodes=None,\n",
       "                       min_impurity_decrease=0.0, min_impurity_split=None,\n",
       "                       min_samples_leaf=1, min_samples_split=2,\n",
       "                       min_weight_fraction_leaf=0.0, presort=False,\n",
       "                       random_state=None, splitter='best')"
      ]
     },
     "execution_count": 327,
     "metadata": {},
     "output_type": "execute_result"
    }
   ],
   "source": [
    "second_model_train = DecisionTreeClassifier()\n",
    "second_model_train.fit(X_train,y_train)"
   ]
  },
  {
   "cell_type": "code",
   "execution_count": 328,
   "metadata": {},
   "outputs": [],
   "source": [
    "pred_second_train = second_model_train.predict(X_test)"
   ]
  },
  {
   "cell_type": "code",
   "execution_count": 329,
   "metadata": {},
   "outputs": [
    {
     "data": {
      "text/plain": [
       "0.2675289312457454"
      ]
     },
     "execution_count": 329,
     "metadata": {},
     "output_type": "execute_result"
    }
   ],
   "source": [
    "mean_absolute_error(y_test, pred_second_train)"
   ]
  },
  {
   "cell_type": "markdown",
   "metadata": {},
   "source": [
    "Esto último hace ver que la diferencia no ha sido tan significativa como pensábamos si utilizamos el mismo conjunto de datos.\n",
    "\n",
    "Para finalizar la primera parte de la práctica, procedemos al cálculo de la media de rendimiento *(score)* para el árbol \"complejo\" y el de 5 nodos de profundidad"
   ]
  },
  {
   "cell_type": "code",
   "execution_count": 342,
   "metadata": {
    "scrolled": true
   },
   "outputs": [
    {
     "name": "stdout",
     "output_type": "stream",
     "text": [
      "Rendimiento en el conjunto de entrenamiento:  0.759645937358148\n",
      "Rendimiento en el conjunto de prueba:  0.7324710687542546\n",
      "Rendimiento en el conjunto total:  0.7528510638297873\n"
     ]
    }
   ],
   "source": [
    "#score de árbol \"complejo\"\n",
    "\n",
    "print(\"Rendimiento en el conjunto de entrenamiento: \",second_model_train.score(X_train,y_train))\n",
    "print(\"Rendimiento en el conjunto de prueba: \",second_model_train.score(X_test,y_test))\n",
    "print(\"Rendimiento en el conjunto total: \",second_model_train.score(X_data,y_data))"
   ]
  },
  {
   "cell_type": "code",
   "execution_count": 358,
   "metadata": {},
   "outputs": [
    {
     "name": "stdout",
     "output_type": "stream",
     "text": [
      "Rendimiento en el conjunto de entrenamiento:  0.7569223785746709\n",
      "Rendimiento en el conjunto de prueba:  0.7297481279782164\n",
      "Rendimiento en el conjunto total:  0.750127659574468\n"
     ]
    }
   ],
   "source": [
    "#score para árbol de 5 nodos máx de profundidad\n",
    "\n",
    "print(\"Rendimiento en el conjunto de entrenamiento: \",third_model.score(X_train,y_train))\n",
    "print(\"Rendimiento en el conjunto de prueba: \",third_model.score(X_test,y_test))\n",
    "print(\"Rendimiento en el conjunto total: \",third_model.score(X_data,y_data))"
   ]
  },
  {
   "cell_type": "markdown",
   "metadata": {},
   "source": [
    "La media de rendimiento para el árbol \"sencillo\" apenas empeora, por lo que validamos la información que anticipaba el error absoluto medio *(MAE)*.\n",
    "\n",
    "Otro medidor de calidad del árbol obtenido que se ha encontrado indagando por la librería de scikit-learn es el  *accuracy_score* que indica la *exactitud* con la que se ha predecido el resultado. \n",
    "\n",
    "$$accuracy(y,\\widehat{y})=\\frac{1}{n_{samples}}\\sum_{i=0}^{n_{samples}-1}1(\\widehat{y}_i=y_i)$$\n",
    "\n",
    "Más info en la sección *3.3.2.2. Accuracy score*, [aquí](https://scikit-learn.org/stable/modules/model_evaluation.html)\n"
   ]
  },
  {
   "cell_type": "code",
   "execution_count": 348,
   "metadata": {},
   "outputs": [
    {
     "data": {
      "text/plain": [
       "0.5"
      ]
     },
     "execution_count": 348,
     "metadata": {},
     "output_type": "execute_result"
    }
   ],
   "source": [
    "#Ejemplo\n",
    "\n",
    "from sklearn.metrics import accuracy_score\n",
    "y_pred = [0, 2, 1, 3]\n",
    "y_true = [0, 1, 2, 3]\n",
    "accuracy_score(y_true, y_pred)"
   ]
  },
  {
   "cell_type": "code",
   "execution_count": 349,
   "metadata": {},
   "outputs": [
    {
     "data": {
      "text/plain": [
       "2"
      ]
     },
     "execution_count": 349,
     "metadata": {},
     "output_type": "execute_result"
    }
   ],
   "source": [
    "accuracy_score(y_true, y_pred, normalize=False)"
   ]
  },
  {
   "cell_type": "code",
   "execution_count": 354,
   "metadata": {},
   "outputs": [
    {
     "data": {
      "text/plain": [
       "0.7324710687542546"
      ]
     },
     "execution_count": 354,
     "metadata": {},
     "output_type": "execute_result"
    }
   ],
   "source": [
    "#accuracy para árbol \"complejo\"\n",
    "accuracy_score(y_test, pred_second_train)"
   ]
  },
  {
   "cell_type": "code",
   "execution_count": 355,
   "metadata": {},
   "outputs": [
    {
     "data": {
      "text/plain": [
       "1076"
      ]
     },
     "execution_count": 355,
     "metadata": {},
     "output_type": "execute_result"
    }
   ],
   "source": [
    "accuracy_score(y_test, pred_second_train, normalize=False)"
   ]
  },
  {
   "cell_type": "code",
   "execution_count": 356,
   "metadata": {},
   "outputs": [
    {
     "data": {
      "text/plain": [
       "0.7297481279782164"
      ]
     },
     "execution_count": 356,
     "metadata": {},
     "output_type": "execute_result"
    }
   ],
   "source": [
    "#accuracy para árbol \"sencillo\" de 5 nodos\n",
    "accuracy_score(y_test, pred3)"
   ]
  },
  {
   "cell_type": "code",
   "execution_count": 359,
   "metadata": {},
   "outputs": [
    {
     "data": {
      "text/plain": [
       "1072"
      ]
     },
     "execution_count": 359,
     "metadata": {},
     "output_type": "execute_result"
    }
   ],
   "source": [
    "accuracy_score(y_test, pred3, normalize=False)"
   ]
  },
  {
   "cell_type": "markdown",
   "metadata": {},
   "source": [
    "## Validación Cruzada / KFold"
   ]
  },
  {
   "cell_type": "markdown",
   "metadata": {},
   "source": [
    "El aprendizaje automático, se trata de un proceso iterativo.\n",
    "\n",
    "Una de las características aprendidas durante este proceso iterativo en la elaboración de la práctica, es que podemos separar parte de los datos para el entrenamiento del clasificador, y medir después la calidad obtenida a través de los datos dedicados a test.\n",
    "\n",
    "La validación cruzada *(cross-validation)* extiende esta aproximación a la puntuación del modelo. En comparación con train_test_split, la validación cruzada aporta una medida mucho más fiable de la calidad del modelo.\n",
    "\n",
    "Básicamente, se trata de aplicar el mismo algoritmo a distintas subdivisiones de los datos e ir midiendo la calidad del mismo en cada una de las subdivisiones."
   ]
  },
  {
   "cell_type": "code",
   "execution_count": 467,
   "metadata": {},
   "outputs": [],
   "source": [
    "X = X_data\n",
    "y = y_data"
   ]
  },
  {
   "cell_type": "code",
   "execution_count": 468,
   "metadata": {},
   "outputs": [
    {
     "name": "stdout",
     "output_type": "stream",
     "text": [
      "[0.69857434 0.53061224 0.62857143 0.55510204 0.53265306 0.51020408\n",
      " 0.76122449 0.7755102  0.97546012 0.9202454  0.70901639 0.75819672]\n",
      "Mean Absolute Error -0.696281\n"
     ]
    }
   ],
   "source": [
    "from sklearn.pipeline import make_pipeline\n",
    "\n",
    "from sklearn.impute import SimpleImputer\n",
    "\n",
    "from sklearn.model_selection import cross_val_score\n",
    "my_pipeline = make_pipeline(SimpleImputer(), DecisionTreeClassifier())\n",
    "scores = cross_val_score(my_pipeline, X, y, cv=12, scoring='accuracy')\n",
    "print(scores)\n",
    "print('Mean Absolute Error %2f' %(-1 * scores.mean()))"
   ]
  },
  {
   "cell_type": "markdown",
   "metadata": {},
   "source": [
    "A continuación, explicamos con algo más de detalle los parámetros recibidos en la función anterior:\n",
    "\n",
    "* `make_pipeline(SimpleImputer(), DecisionTreeClassifier())` . El objetivo de un *pipeline* es permitir que una secuencia lineal de transformaciones de nuestro dataset se encadene y culmine en un proceso de modelado que pueda ser evaluado. SimpleImputer, entre otras cosas, va a validar los datos y predeterminar qué valores toma en caso de haber celdas vacías, por ejemplo. El segundo argumento es el algoritmo que vamos a aplicar en nuestro *pipeline*.\n",
    "\n",
    "* `X, y` , como antes, son las features y objetivo que vamos a utilizar para preparar el modelo.\n",
    "\n",
    "* `cv` es la cantidad de veces que queremos subdividir nuestro algoritmo por el pipeline. En este caso, hemos indicado `12`, por lo que el array de salida sabemos de antemano que tendrá ese tamaño. Para probar cada una de las particiones, vamos a hacer uso de KFold más abajo.\n",
    "\n",
    "* `scoring` va a indicar el modo de puntuar que vamos a utilizar. Haciendo referencia a una de las formas de puntuación anteriormente mostradas, vamos a recurrir al *accuracy*.\n",
    "\n",
    "Puede encontrarse más info al respecto en la [web oficial de la librería](https://scikit-learn.org/stable/modules/generated/sklearn.model_selection.cross_val_score.html)"
   ]
  },
  {
   "cell_type": "code",
   "execution_count": 378,
   "metadata": {},
   "outputs": [
    {
     "name": "stdout",
     "output_type": "stream",
     "text": [
      "0.9754601226993865\n"
     ]
    }
   ],
   "source": [
    "#imprimir mejor accuracy de las puntuaciones obtenidas\n",
    "print(max(scores))"
   ]
  },
  {
   "cell_type": "code",
   "execution_count": 464,
   "metadata": {},
   "outputs": [
    {
     "name": "stdout",
     "output_type": "stream",
     "text": [
      "KFold(n_splits=588, random_state=None, shuffle=False)\n",
      "1.0\n"
     ]
    }
   ],
   "source": [
    "from sklearn.model_selection import KFold\n",
    "\n",
    "# con esta parte del script podemos conseguir la mejor partición de datos posible midiendo el accuracy. Si se encuentra una accuracy mejor en la iteración de KFolds al entrenar el modelo con dicha partición, se almacena en los arrays que tienen por nombre \"definitive_\" al comienzo.\n",
    "prev_accuracy = 0\n",
    "definitive_X_train = []\n",
    "definitive_X_test = []\n",
    "definitive_y_train=[]\n",
    "definitive_y_test=[]\n",
    "kf = KFold(n_splits=588, shuffle=False)\n",
    "kf.get_n_splits(X)\n",
    "print(kf)\n",
    "for train_index, test_index in kf.split(X):\n",
    "    #print(\"TRAIN:\", train_index, \"TEST:\", test_index)\n",
    "    X_train, X_test = X.iloc[train_index], X.iloc[test_index]\n",
    "    y_train, y_test = y.iloc[train_index], y.iloc[test_index]\n",
    "    kfold_model = DecisionTreeClassifier()\n",
    "    kfold_model.fit(X_train,y_train)\n",
    "    pred_kfold = kfold_model.predict(X_test)\n",
    "    current_accuracy = accuracy_score(y_test, pred_kfold)\n",
    "    if current_accuracy >=  prev_accuracy: \n",
    "        prev_accuracy = current_accuracy\n",
    "        definitive_X_train, definitive_X_test =  X_train, X_test\n",
    "        definitive_y_train, definitive_y_test =  y_train, y_test\n",
    "\n",
    "print(current_accuracy)\n",
    "\n",
    "    "
   ]
  },
  {
   "cell_type": "markdown",
   "metadata": {},
   "source": [
    "Se ha descubierto experimentalmente que, haciendo 588 particiones diferentes, `KFold` devuelve una partición con una *accuracy* de 1.0, la máxima que puede obtenerse. Con valores más bajos, se obtiene una *accuracy* de entre 0.7 y 0.9 como máximo. Los datos de partición son almacenados en las variables que comienzan por *definitive_*, a fin de poder ser utilizados en otras posibles pruebas."
   ]
  },
  {
   "cell_type": "code",
   "execution_count": null,
   "metadata": {},
   "outputs": [],
   "source": []
  },
  {
   "cell_type": "code",
   "execution_count": null,
   "metadata": {},
   "outputs": [],
   "source": []
  }
 ],
 "metadata": {
  "kernelspec": {
   "display_name": "Python 3",
   "language": "python",
   "name": "python3"
  },
  "language_info": {
   "codemirror_mode": {
    "name": "ipython",
    "version": 3
   },
   "file_extension": ".py",
   "mimetype": "text/x-python",
   "name": "python",
   "nbconvert_exporter": "python",
   "pygments_lexer": "ipython3",
   "version": "3.7.4"
  }
 },
 "nbformat": 4,
 "nbformat_minor": 2
}
